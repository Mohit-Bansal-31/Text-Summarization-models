{
 "cells": [
  {
   "cell_type": "markdown",
   "id": "aae02600-5dfa-4073-a576-c7f90168cde5",
   "metadata": {},
   "source": [
    "# Comparing different Text-summarization Models"
   ]
  },
  {
   "cell_type": "markdown",
   "id": "bb3f9118-162d-4a4e-97e0-393670358602",
   "metadata": {},
   "source": [
    "## Importing Libraries"
   ]
  },
  {
   "cell_type": "code",
   "execution_count": 1,
   "id": "70379022-0585-4c97-8efe-2ff0e9da8db1",
   "metadata": {},
   "outputs": [],
   "source": [
    "import pandas as pd\n",
    "import numpy as np"
   ]
  },
  {
   "cell_type": "markdown",
   "id": "dc358504-b345-4bc6-a2c0-211ad2a3e4d6",
   "metadata": {},
   "source": [
    "## Importing and Defining Text-Summarization Models"
   ]
  },
  {
   "cell_type": "markdown",
   "id": "3985c86c-f730-4113-ae2e-83a6e788220b",
   "metadata": {},
   "source": [
    "### Model-1 (Facebook/bart-large-cnn)"
   ]
  },
  {
   "cell_type": "code",
   "execution_count": 2,
   "id": "4a4b918e-9a9f-4178-90e4-17328d32a7cd",
   "metadata": {},
   "outputs": [],
   "source": [
    "def model1(text):\n",
    "    from transformers import pipeline\n",
    "    \n",
    "    summarizer=pipeline(\"summarization\",model=\"facebook/bart-large-cnn\")\n",
    "\n",
    "    summary=summarizer(text,max_length=80,min_length=30,do_sample=False)\n",
    "    return (summary[0]['summary_text'])"
   ]
  },
  {
   "cell_type": "markdown",
   "id": "b4342d03-59d5-4c89-a241-74325012b110",
   "metadata": {},
   "source": [
    "### Model-2 (t5-base tokenizer)"
   ]
  },
  {
   "cell_type": "code",
   "execution_count": 3,
   "id": "38cad496-9d86-4722-933c-a9954602540d",
   "metadata": {},
   "outputs": [],
   "source": [
    "def model2(text):\n",
    "    from transformers import T5Tokenizer, T5ForConditionalGeneration\n",
    "\n",
    "    model_name=\"t5-base\"\n",
    "\n",
    "    tokenizer=T5Tokenizer.from_pretrained(model_name)\n",
    "    model=T5ForConditionalGeneration.from_pretrained(model_name)\n",
    "\n",
    "    input_ids=tokenizer.encode(text,return_tensors=\"pt\")\n",
    "\n",
    "    output=model.generate(input_ids,max_length=80,min_length=30,do_sample=False)\n",
    "    summary=tokenizer.decode(output[0],skip_special_tokens=True)\n",
    "\n",
    "    return summary"
   ]
  },
  {
   "cell_type": "markdown",
   "id": "980e94c5-f4f9-4909-9f85-acbb75de7139",
   "metadata": {},
   "source": [
    "### Model-3 (sshleifer/distilbart-cnn-12-6) (Distilled BART for Fast Summarization)"
   ]
  },
  {
   "cell_type": "code",
   "execution_count": 4,
   "id": "5ef05388-265c-46a3-9380-30a2545d7b3d",
   "metadata": {},
   "outputs": [],
   "source": [
    "def model3(text):\n",
    "    from transformers import pipeline\n",
    "\n",
    "    summarizer=pipeline(\"summarization\",model=\"sshleifer/distilbart-cnn-12-6\")\n",
    "\n",
    "    summary=summarizer(text,max_length=80,min_length=30,do_sample=False)\n",
    "\n",
    "    return (summary[0][\"summary_text\"])"
   ]
  },
  {
   "cell_type": "markdown",
   "id": "c9bb0909-d790-4c2a-9644-70dc4bee717f",
   "metadata": {},
   "source": [
    "### Model-4 (philschmid/bart-large-cnn-samsum)"
   ]
  },
  {
   "cell_type": "code",
   "execution_count": 5,
   "id": "f8fafe66-7971-4c40-a671-72f1cabc8007",
   "metadata": {},
   "outputs": [],
   "source": [
    "def model4(text):\n",
    "    from transformers import pipeline\n",
    "\n",
    "    summarizer=pipeline(\"summarization\",model=\"philschmid/bart-large-cnn-samsum\")\n",
    "\n",
    "    summary=summarizer(text,max_length=80,min_length=30,do_sample=False)\n",
    "\n",
    "    return (summary[0]['summary_text'])"
   ]
  },
  {
   "cell_type": "code",
   "execution_count": 6,
   "id": "dbb6cc4e-aae0-4cba-8e39-f113727c52e7",
   "metadata": {},
   "outputs": [],
   "source": [
    "models=[model1,model2,model3,model4]"
   ]
  },
  {
   "cell_type": "markdown",
   "id": "aa6257e8-30d0-4d59-9ebc-176797a18cc5",
   "metadata": {},
   "source": [
    "## Importing and Defining Evaluation metrics"
   ]
  },
  {
   "cell_type": "markdown",
   "id": "38bfb936-6697-4f99-8c92-dc3d0df2b3d5",
   "metadata": {},
   "source": [
    "### Parameter-1 (Meteor Score)"
   ]
  },
  {
   "cell_type": "code",
   "execution_count": 7,
   "id": "5b775b7b-b2ef-4b62-b4e1-5dd5a2787bb3",
   "metadata": {},
   "outputs": [],
   "source": [
    "def par1(reference,generated):\n",
    "    from nltk.translate.meteor_score import meteor_score\n",
    "    from nltk.tokenize import word_tokenize\n",
    "    return meteor_score([word_tokenize(reference)],word_tokenize(generated))  "
   ]
  },
  {
   "cell_type": "markdown",
   "id": "5810f0ba-c1d4-4472-92b8-0f2addc39fa6",
   "metadata": {},
   "source": [
    "### Parameter-2 (Bleu Score)"
   ]
  },
  {
   "cell_type": "code",
   "execution_count": 8,
   "id": "a184c633-7d93-4218-b43a-6a06c58f9249",
   "metadata": {},
   "outputs": [],
   "source": [
    "def par2(reference,generated):\n",
    "    from sacrebleu.metrics import BLEU\n",
    "    bleu=BLEU()\n",
    "    return bleu.corpus_score([generated],[[reference]]).score"
   ]
  },
  {
   "cell_type": "markdown",
   "id": "15c25c85-373c-4a25-b779-7b0ba51338a8",
   "metadata": {},
   "source": [
    "### Parameter-3 (Rouge-1 Score)"
   ]
  },
  {
   "cell_type": "code",
   "execution_count": 9,
   "id": "f350fbc4-a776-45a2-af68-b72a28062a32",
   "metadata": {},
   "outputs": [],
   "source": [
    "def par3(reference,generated):\n",
    "    from rouge_score import rouge_scorer\n",
    "    scorer=rouge_scorer.RougeScorer(['rouge1','rouge2','rougeL'],use_stemmer=True)\n",
    "    score=scorer.score(reference,generated)\n",
    "    return score['rouge1'].fmeasure"
   ]
  },
  {
   "cell_type": "markdown",
   "id": "4a9ae906-83e2-4944-8c10-99fa873f4813",
   "metadata": {},
   "source": [
    "### Parameter-4 (gunning fog index)"
   ]
  },
  {
   "cell_type": "code",
   "execution_count": 10,
   "id": "084c27a9-f11a-4ce1-883d-db0a21b95e8f",
   "metadata": {},
   "outputs": [],
   "source": [
    "def par4(reference,generated):\n",
    "    import textstat\n",
    "    score=textstat.gunning_fog(generated)\n",
    "    return score"
   ]
  },
  {
   "cell_type": "markdown",
   "id": "d363eaac-b4a3-4563-95cf-ffdd4f0d8a3b",
   "metadata": {},
   "source": [
    "### Parameter-5 (Flesch Kincaid)"
   ]
  },
  {
   "cell_type": "code",
   "execution_count": 11,
   "id": "64cc4f1e-a207-4ed5-8c2f-22f2e7e4973c",
   "metadata": {},
   "outputs": [],
   "source": [
    "def par5(reference,generated):\n",
    "    import textstat\n",
    "    score=textstat.flesch_kincaid_grade(generated)\n",
    "    return score"
   ]
  },
  {
   "cell_type": "code",
   "execution_count": 12,
   "id": "a0f1b0a3-0a55-4a39-b54a-866b716280ed",
   "metadata": {},
   "outputs": [],
   "source": [
    "parameters=[par1,par2,par3,par4,par5]"
   ]
  },
  {
   "cell_type": "markdown",
   "id": "b0fa68c8-c48c-4b80-949a-24c468a56eca",
   "metadata": {},
   "source": [
    "## Weights"
   ]
  },
  {
   "cell_type": "code",
   "execution_count": 13,
   "id": "a2ac4fcd-b199-488b-b4b6-309a9bfd5348",
   "metadata": {},
   "outputs": [],
   "source": [
    "weights=\"0.20,0.15,0.15,0.15,0.10\""
   ]
  },
  {
   "cell_type": "markdown",
   "id": "ca057333-dfac-4b49-a16c-947782425d6e",
   "metadata": {},
   "source": [
    "## Impacts"
   ]
  },
  {
   "cell_type": "code",
   "execution_count": 14,
   "id": "df2a3608-f16e-4d6e-84fd-86ffd6ea4af9",
   "metadata": {},
   "outputs": [],
   "source": [
    "impacts=\"+,+,+,-,+\""
   ]
  },
  {
   "cell_type": "markdown",
   "id": "2cdd49d0-ddb4-4c2b-87b1-f5f77f8160b7",
   "metadata": {},
   "source": [
    "## Topics"
   ]
  },
  {
   "cell_type": "markdown",
   "id": "057b709c-a6de-4780-b221-9637387aadbf",
   "metadata": {},
   "source": [
    "### Health"
   ]
  },
  {
   "cell_type": "markdown",
   "id": "ba4846a7-3cee-4e63-b50c-5e37c30ad5e0",
   "metadata": {},
   "source": [
    "#### Getting Text"
   ]
  },
  {
   "cell_type": "code",
   "execution_count": 15,
   "id": "782c47a2-aa30-498e-8a7c-dd6e65997bd8",
   "metadata": {},
   "outputs": [],
   "source": [
    "Htext1=\"WHO reports a significant increase in Zika virus cases in India, especially in Maharashtra with 140 cases recorded alone in 2024.According to a report published by the Word Health Organisation (WHO) on Wednesday, the state of Maharashtra reported about 140 cases of the Zika virus in 2024, which makes it the highest number since 2021. Zika virus spread is a common occurrence in the state and cases were recorded in the previous years as well. However, there has been a significant rise in the caseload in 2024 which is why it is matter of serious public health concern. In 2021, the state reported one case, in 2022 there were three confirmed cases and in 2023 there were 18. In 2024, the cases went up to 140. Aside from Maharashtra, Karnataka also reported 10 cases in 2024 and Gujarat reported one.WHO Recommendations For Tackling Potential SpreadThe recommendation includes strengthening mosquito control efforts by removing breeding sites, using insect repellents, and safeguarding homes with screens and nets. It also advised pregnant women to practice safer sex or avoid sexual activity to reduce the risk of transmission.Zika Virus: All About This Virus:Zika virus is a viral infection primarily spread by Aedes mosquitoes, particularly Aedes aegypti. It's known for causing mild symptoms in most people, like fever, rash, joint pain, and red eyes. However, Zika gained significant attention because of its association with birth defects, especially microcephaly (a condition where a baby's head is smaller than normal), when pregnant women are infected.The virus can also be transmitted through sexual contact and, less commonly, through blood transfusions. While most people recover without any severe issues, the potential risks during pregnancy have made Zika a public health concern, particularly in areas where mosquitoes are prevalent.\"\n",
    "\n",
    "Htext2=\"Common vitamin deficiencies in people with diabetes.A study finds that diabetes management can lead to significant nutritional deficiencies, with over 45% of people with type 2 diabetes lacking vital vitamins and minerals. Key deficiencies include Vitamin D and B12. Researchers stress the importance of addressing these deficiencies to prevent further health complications.People with diabetes often suffer from a range of symptoms from increased urination, thirst, fatigue, slow-healing sores, and frequent infections. However, what's perhaps a lesser-known aspect of diabetes is that managing the disease may leave a person deficient in crucial vitamins and minerals.A new study published in the journal BMJ Nutrition, Prevention & Health sheds light on how the metabolic disorder could raise the risk of multiple nutritional deficiencies.The study noted that battling the disease could deplete levels of vitamins, minerals, electrolytes, and other important nutrients in the body, which can further worsen it.The research team involved in the study concluded that people trying to manage diabetes through diet may end up with nutritional deficiencies.Diabetes is a tricky disease to manage as it changes the way your body processes glucose due to the pancreas not being able to produce sufficient insulin or unable to make it at all. When insulin, which is tasked with blood sugar management, is not sufficient in the body, the glucose remains in your blood and doesn’t reach your cells. This excess sugar could start damaging the eyes, kidneys, nerves, and heart, complicating your health woes.According to this new research, as many as 45% of people with type 2 diabetes have multiple deficiencies in vitamins, minerals and electrolytes.Where was the data sourced from?For this review, the research team led by Dr. Daya Krishan Mangal, an adjunct professor at the International Institute of Health Management Research in Jaipur, India, studied results from 132 prior studies involving more than 52,500 participants between 1998 and 2023.Common vitamin and mineral deficiencies in people with diabetesVitamin D: The most common deficiency seen among people with type 2 diabetes was extremely low levels of Vitamin D which affected more than 60% of the people.Vitamin B12: People on diabetes drug metformin faced higher risk of B12 deficiency. Around 29% of the participants in the study had low levels of the vitamin.It was found that women with diabetes are more likely to have vitamin deficiencies than men. The study data shows 49% women had vitamin deficiencies, compared to 43% of their male counterparts.Other common deficiencies included magnesium (42%) and iron (28%).People with diabetes living in North and South America had more chances (54%) of vitamin deficiencies than those who are not.Researchers highlight that while the focus during treatment is more on energy metabolism and macronutrients, but it is important to address specific micronutrient deficiencies in those affected to prevent the disease from worsening and save the diabetics from its many complications.Diabetes-friendly ways to increase vitamins and mineral intakeNutrient-dense foods: There is no dearth of options when it comes to including leafy greens, nuts, seeds, and low-glycemic fruits in your daily diet for meeting essential vitamins and minerals needs.Fortified foods: Diabetes who are leading a vegan lifestyle can opt for fortified plant-based milk, cereals, and whole grains to boost vitamin D, B12, and iron intake.Combination foods: Specific food combinations can help boost nutritional value. Combine vitamin C-rich foods (like bell peppers) with iron sources (like spinach) to enhance absorption.Avoid deep frying: One should try to opt for healthier cooking methods and avoid deep frying foods as it can raise cholesterol and blood pressure. Steaming and roasting help retain nutrients without adding unhealthy fats or sugars.\"\n",
    "\n",
    "Htext3=\"CDFD scientists trace the genesis of Leukemia.Wiedemann-Steiner syndrome (WSS) is a rare genetic disorder caused by mutations in Mixed Lineage Leukemia (MLL/KMT2A) gene which causes Leukemia or blood cancer. MLL protein is a type of enzyme that modifies certain proteins in our DNA which at times could lead to blood cancer which is a common cancer in children making up 28% of all cases.A group of scientists led by Shweta Tyagi’s group at Centre for DNA Fingerprinting and Diagnostics (CDFD) here, along with Swathi Chodisetty, Aditi Arora and Kausik Kumar Mallik have uncovered an unexpected role for MLL and its partner protein ‘WDR5’.They have found that MLL-related abnormalities can occur not only through DNA modification but also by other ways. Centrosome is a permanent structure present in the cell required for cell shape, mobility and division. If there is a loss of MLL/WDR5 protein inside the cell, cells struggle leading to an unequal division of our genetic material.Scientists said WSS is a rare neurodevelopmental disorder with few hundred cases reported worldwide. Children with WSS often experience developmental delays, intellectual disabilities and smaller-than-normal head sizes or microcephaly. Investigations found that due to loss of one MLL gene, there are low levels of MLL protein compared to the normal person. Due to this cell division becomes slower affecting brain development.CDFD scientists now believe MLL can have a greater impact in the development of brain and the study may also offer potential therapeutic avenues as restoring protein levels and helping cell division to alleviate some symptoms of blood cancer. The study has been published recently in ‘Science Advances’, said a press release.\"\n",
    "\n",
    "Htext4=\"Staying Healthy:Maintaining good health doesn't happen by accident. It requires work, smart lifestyle choices, and the occasional checkup and test.A healthy diet is rich in fiber, whole grains, fresh fruits and vegetables, 'good' or unsaturated fats, and omega-3 fatty acids. These dietary components turn down inflammation, which can damage tissue, joints, artery walls, and organs. Going easy on processed foods is another element of healthy eating. Sweets, foods made with highly refined grains, and sugar-sweetened beverages can cause spikes in blood sugar that can lead to early hunger. High blood sugar is linked to the development of diabetes, obesity, heart disease, and even dementia.The Mediterranean diet meets all of the criteria for good health, and there is convincing evidence that it is effective at warding off heart attack, stroke, and premature death. The diet is rich in olive oil, fruits, vegetables, nuts and fish; low in red meats or processed meats; and includes a moderate amount of cheese and wine.Physical activity is also necessary for good health. It can greatly reduce your risk of heart disease, stroke, type 2 diabetes, breast and colon cancer, depression, and falls. Physical activity improves sleep, endurance, and even sex. Aim for 150 minutes of moderate-intensity exercise every week, such as brisk walking. Strength training, important for balance, bone health, controlling blood sugar, and mobility, is recommended 2-3 times per week.Finding ways to reduce stress is another strategy that can help you stay healthy, given the connection between stress and a variety of disorders. There are many ways to bust stress. Try, meditation, mindfulness, yoga, playing on weekends, and taking vacations.Finally, establish a good relationship with a primary care physician. If something happens to your health, a physician you know —and who knows you — is in the best position to help. He or she will also recommend tests to check for hidden cancer or other conditions.\"\n",
    "\n",
    "Htext5=\"The Pillars of Well-being: A Comprehensive Look at HealthHealth, a concept often taken for granted, is a multifaceted state encompassing physical, mental, and social well-being.  It's not merely the absence of disease, but a dynamic process of nurturing and maintaining a harmonious balance within these interconnected dimensions.  Prioritizing health is an investment in a happier, more fulfilling, and productive life.Physical Health: The Foundation of Well-beingPhysical health forms the bedrock of overall well-being.  It involves making conscious choices that support the body's optimal functioning.  Regular physical activity is paramount.  Engaging in moderate-intensity exercise, such as brisk walking, cycling, or swimming, for at least 150 minutes per week, or vigorous-intensity exercise for 75 minutes per week, yields significant benefits.  Exercise strengthens the cardiovascular system, improves bone density, helps manage weight, and reduces the risk of chronic diseases like heart disease, type 2 diabetes, and certain cancers.Nutrition plays a crucial role in fueling the body and providing it with the necessary building blocks for growth and repair.  A balanced diet rich in fruits, vegetables, whole grains, lean protein, and healthy fats is essential.  Limiting processed foods, sugary drinks, and excessive saturated and unhealthy fats is crucial for maintaining a healthy weight and preventing diet-related diseases.  Adequate sleep is another vital component of physical health.  Aiming for 7-9 hours of quality sleep per night allows the body to repair itself, consolidate memories, and regulate hormones.Mental Health: Nurturing the Inner SelfMental health is just as important as physical health.  It encompasses emotional, psychological, and social well-being, influencing how we think, feel, and act.  Maintaining good mental health helps us cope with stress, build resilience, and form healthy relationships.  Practicing mindfulness, which involves paying attention to the present moment without judgment, can be beneficial for managing stress and improving focus.  Engaging in activities that bring joy and relaxation, such as hobbies, spending time in nature, or listening to music, can also contribute to mental well-being.Developing healthy coping mechanisms for dealing with challenges and setbacks is essential.  This might involve seeking support from friends, family, or a mental health professional.  Talking about your feelings and concerns can be incredibly helpful in processing emotions and finding solutions.  Building self-esteem and confidence is also crucial for mental well-being.  Recognizing your strengths and accomplishments can help you feel more positive about yourself and your abilities.Social Health: The Power of ConnectionSocial health involves our interactions and relationships with others.  Strong social connections provide a sense of belonging, support, and purpose.  Building and maintaining healthy relationships with family, friends, and community members is essential for social well-being.  Engaging in social activities, volunteering, or joining clubs can help you connect with others who share similar interests.Social support is crucial during times of stress or difficulty.  Having people to rely on can make a significant difference in your ability to cope with challenges.  Contributing to your community can also enhance social well-being.  Helping others can give you a sense of purpose and fulfillment, while also strengthening your social connections.Integrating the Dimensions of Health These three dimensions of health are interconnected and influence one another.  For example, poor physical health can contribute to mental health problems, and social isolation can negatively impact both mental and physical health.  Therefore, it's important to adopt a holistic approach to health that addresses all three dimensions.  This might involve making gradual changes to your lifestyle, such as incorporating more physical activity into your daily routine, practicing mindfulness techniques, and nurturing your relationships.  Seeking professional help when needed is also a sign of strength and self-care.  Prioritizing your health is an ongoing journey, not a destination.  By making conscious choices that support your physical, mental, and social well-being, you can create a foundation for a healthier, happier, and more fulfilling life.\""
   ]
  },
  {
   "cell_type": "markdown",
   "id": "0888e0e0-bdb9-4fe7-b0fd-10749ddd2986",
   "metadata": {},
   "source": [
    "#### Summarized Text (Using Chat-GPT)"
   ]
  },
  {
   "cell_type": "code",
   "execution_count": 16,
   "id": "61472c8a-1c49-4e4a-8fbb-a64f8a2a56d3",
   "metadata": {},
   "outputs": [],
   "source": [
    "HStext1=\"The WHO has reported a sharp increase in Zika virus cases in India, particularly in Maharashtra, which recorded 140 cases in 2024—the highest since 2021. Cases have risen significantly compared to previous years (1 in 2021, 3 in 2022, and 18 in 2023). Karnataka reported 10 cases, while Gujarat reported one in 2024. WHO recommends strengthening mosquito control measures, using repellents, and taking precautions during pregnancy to prevent transmission. Zika virus, primarily spread by Aedes mosquitoes, usually causes mild symptoms but poses serious risks to pregnant women, as it is linked to birth defects like microcephaly.\"\n",
    "\n",
    "HStext2=\"A study published in BMJ Nutrition, Prevention & Health found that over 45% of people with type 2 diabetes suffer from vitamin and mineral deficiencies, particularly Vitamin D and B12. Vitamin D deficiency affects over 60% of diabetics, while 29% of those on metformin have low B12 levels. Women with diabetes are more prone to deficiencies than men. Other common deficiencies include magnesium (42%) and iron (28%). Researchers emphasize the need to address these micronutrient gaps to prevent complications. To boost nutrient intake, diabetics are advised to consume leafy greens, nuts, fortified foods, and nutrient-rich combinations while avoiding deep-fried foods.\"\n",
    "\n",
    "HStext3=\"Scientists at the Centre for DNA Fingerprinting and Diagnostics (CDFD) have traced the role of the MLL/KMT2A gene in leukemia and Wiedemann-Steiner Syndrome (WSS), a rare genetic disorder. The study, led by Shweta Tyagi’s group, found that abnormalities in MLL and its partner protein WDR5 can disrupt cell division beyond DNA modification. Loss of MLL/WDR5 affects centrosomes, leading to uneven genetic material distribution, contributing to leukemia and developmental issues in WSS patients. The research highlights MLL’s role in brain development and suggests potential therapies by restoring protein levels. The findings were published in Science Advances.\"\n",
    "\n",
    "HStext4=\"Maintaining good health requires a balanced diet, regular exercise, stress management, and medical checkups. A healthy diet should include fiber, whole grains, fresh fruits, vegetables, and healthy fats while limiting processed foods and sugar to prevent diseases like diabetes and heart disease. The Mediterranean diet, rich in olive oil, fish, nuts, and vegetables, is particularly effective for heart health. Regular physical activity, including 150 minutes of moderate exercise and strength training, lowers the risk of various diseases and improves overall well-being. Managing stress through meditation, yoga, and leisure activities is crucial. Lastly, having a trusted physician ensures timely health screenings and medical care.\"\n",
    "\n",
    "HStext5=\"Health is a balance of physical, mental, and social well-being. Physical health requires regular exercise, a balanced diet, and sufficient sleep to prevent diseases. Mental health thrives on stress management, mindfulness, and emotional resilience. Social health depends on strong relationships and community connections for support and belonging. Since these aspects are interconnected, a holistic approach that integrates healthy habits and relationships leads to long-term well-being and a fulfilling life.\""
   ]
  },
  {
   "cell_type": "markdown",
   "id": "8c89d923-8be7-4da0-a54b-bfa2038521f2",
   "metadata": {},
   "source": [
    "#### Generating scores for all texts"
   ]
  },
  {
   "cell_type": "code",
   "execution_count": 17,
   "id": "d33662da-9f28-4962-86cf-875335bf82e0",
   "metadata": {},
   "outputs": [],
   "source": [
    "HImatrix1=np.zeros((4,5))\n",
    "HImatrix2=np.zeros((4,5))\n",
    "HImatrix3=np.zeros((4,5))\n",
    "HImatrix4=np.zeros((4,5))\n",
    "HImatrix5=np.zeros((4,5))"
   ]
  },
  {
   "cell_type": "code",
   "execution_count": 18,
   "id": "98e8b776-face-40f7-955c-d560b32562ae",
   "metadata": {},
   "outputs": [],
   "source": [
    "Htext=[(HImatrix1,HStext1,Htext1),(HImatrix2,HStext2,Htext2),(HImatrix3,HStext3,Htext3),(HImatrix4,HStext4,Htext4),(HImatrix5,HStext5,Htext5)]"
   ]
  },
  {
   "cell_type": "code",
   "execution_count": 19,
   "id": "71187cac-cd0d-4764-b8ac-ce92231422bc",
   "metadata": {
    "scrolled": true
   },
   "outputs": [
    {
     "name": "stderr",
     "output_type": "stream",
     "text": [
      "Device set to use cpu\n",
      "You are using the default legacy behaviour of the <class 'transformers.models.t5.tokenization_t5.T5Tokenizer'>. This is expected, and simply means that the `legacy` (previous) behavior will be used so nothing changes for you. If you want to use the new behaviour, set `legacy=False`. This should only be set if you understand what it means, and thoroughly read the reason why this was added as explained in https://github.com/huggingface/transformers/pull/24565\n",
      "Device set to use cpu\n",
      "Device set to use cpu\n",
      "Device set to use cpu\n",
      "Device set to use cpu\n",
      "Device set to use cpu\n",
      "Device set to use cpu\n",
      "Device set to use cpu\n",
      "Device set to use cpu\n",
      "Device set to use cpu\n",
      "Device set to use cpu\n",
      "Device set to use cpu\n",
      "Device set to use cpu\n",
      "Device set to use cpu\n",
      "Device set to use cpu\n"
     ]
    }
   ],
   "source": [
    "for k,(matrix,reference,text) in enumerate(Htext):\n",
    "    for i, model in enumerate(models):\n",
    "        generated=model(text)\n",
    "        for j,metric in enumerate(parameters):\n",
    "            matrix[i,j]=metric(reference,generated)"
   ]
  },
  {
   "cell_type": "markdown",
   "id": "c5d1f97c-f675-40ef-a7b5-3c9fff61ac2e",
   "metadata": {},
   "source": [
    "#### Converting arrays into dataframes"
   ]
  },
  {
   "cell_type": "code",
   "execution_count": 20,
   "id": "b4acdb7e-bb07-4c16-a617-1b50d77710c8",
   "metadata": {},
   "outputs": [],
   "source": [
    "HIdf1=pd.DataFrame(HImatrix1,index=['bart-large-cnn','t5-tokenizer','distilbart-cnn','bart-large-cnn-samsum'])\n",
    "HIdf2=pd.DataFrame(HImatrix2,index=['bart-large-cnn','t5-tokenizer','distilbart-cnn','bart-large-cnn-samsum'])\n",
    "HIdf3=pd.DataFrame(HImatrix3,index=['bart-large-cnn','t5-tokenizer','distilbart-cnn','bart-large-cnn-samsum'])\n",
    "HIdf4=pd.DataFrame(HImatrix4,index=['bart-large-cnn','t5-tokenizer','distilbart-cnn','bart-large-cnn-samsum'])\n",
    "HIdf5=pd.DataFrame(HImatrix5,index=['bart-large-cnn','t5-tokenizer','distilbart-cnn','bart-large-cnn-samsum'])"
   ]
  },
  {
   "cell_type": "code",
   "execution_count": 21,
   "id": "7d98a667-9219-49d4-867b-a30168df6d42",
   "metadata": {},
   "outputs": [],
   "source": [
    "HIdataframes=[HIdf1,HIdf2,HIdf3,HIdf4,HIdf5]"
   ]
  },
  {
   "cell_type": "code",
   "execution_count": 22,
   "id": "6e9e244f-eafb-4d00-a06e-78ee8ccea3ec",
   "metadata": {},
   "outputs": [],
   "source": [
    "for i,df in enumerate(HIdataframes):\n",
    "    df.columns=['Meteor Score','Bleu Score','Rouge-1 Score','Gunning-Fog Index','Flesch-Kincaid']"
   ]
  },
  {
   "cell_type": "markdown",
   "id": "64e9bda0-62f8-42d2-8056-ffdc34813ad3",
   "metadata": {},
   "source": [
    "#### Saving dataframes as csv (for our own topsis function)"
   ]
  },
  {
   "cell_type": "code",
   "execution_count": 23,
   "id": "33e36842-098c-43e6-964a-5c52a48c9606",
   "metadata": {},
   "outputs": [],
   "source": [
    "HIdf1.to_csv('HIdf1.csv')\n",
    "HIdf2.to_csv('HIdf2.csv')\n",
    "HIdf3.to_csv('HIdf3.csv')\n",
    "HIdf4.to_csv('HIdf4.csv')\n",
    "HIdf5.to_csv('HIdf5.csv')"
   ]
  },
  {
   "cell_type": "markdown",
   "id": "003f6267-ea84-4987-93e0-8957bb2a8976",
   "metadata": {},
   "source": [
    "#### Applying Topsis"
   ]
  },
  {
   "cell_type": "code",
   "execution_count": 24,
   "id": "21ca6a72-0326-4aae-a2c5-786f9a1ecaeb",
   "metadata": {},
   "outputs": [
    {
     "name": "stdout",
     "output_type": "stream",
     "text": [
      "Requirement already satisfied: topsis-mohit-102397005 in c:\\users\\mohit\\appdata\\local\\programs\\python\\python310\\lib\\site-packages (1.0.22)\n",
      "Requirement already satisfied: pandas in c:\\users\\mohit\\appdata\\local\\programs\\python\\python310\\lib\\site-packages (from topsis-mohit-102397005) (2.2.3)\n",
      "Requirement already satisfied: numpy in c:\\users\\mohit\\appdata\\local\\programs\\python\\python310\\lib\\site-packages (from topsis-mohit-102397005) (1.24.1)\n",
      "Requirement already satisfied: python-dateutil>=2.8.2 in c:\\users\\mohit\\appdata\\local\\programs\\python\\python310\\lib\\site-packages (from pandas->topsis-mohit-102397005) (2.9.0.post0)\n",
      "Requirement already satisfied: pytz>=2020.1 in c:\\users\\mohit\\appdata\\local\\programs\\python\\python310\\lib\\site-packages (from pandas->topsis-mohit-102397005) (2024.2)\n",
      "Requirement already satisfied: tzdata>=2022.7 in c:\\users\\mohit\\appdata\\local\\programs\\python\\python310\\lib\\site-packages (from pandas->topsis-mohit-102397005) (2024.2)\n",
      "Requirement already satisfied: six>=1.5 in c:\\users\\mohit\\appdata\\local\\programs\\python\\python310\\lib\\site-packages (from python-dateutil>=2.8.2->pandas->topsis-mohit-102397005) (1.16.0)\n"
     ]
    },
    {
     "name": "stderr",
     "output_type": "stream",
     "text": [
      "WARNING: Ignoring invalid distribution -ensorflow-directml-plugin (c:\\users\\mohit\\appdata\\local\\programs\\python\\python310\\lib\\site-packages)\n",
      "WARNING: Ignoring invalid distribution -ensorflow-directml-plugin (c:\\users\\mohit\\appdata\\local\\programs\\python\\python310\\lib\\site-packages)\n",
      "WARNING: Ignoring invalid distribution -ensorflow-directml-plugin (c:\\users\\mohit\\appdata\\local\\programs\\python\\python310\\lib\\site-packages)\n",
      "\n",
      "[notice] A new release of pip is available: 24.3.1 -> 25.0\n",
      "[notice] To update, run: python.exe -m pip install --upgrade pip\n"
     ]
    }
   ],
   "source": [
    "!pip install topsis-mohit-102397005"
   ]
  },
  {
   "cell_type": "code",
   "execution_count": 25,
   "id": "64d179d7-3649-47b6-8550-99e98dd98817",
   "metadata": {},
   "outputs": [],
   "source": [
    "import topsis_mohit_102397005 as top"
   ]
  },
  {
   "cell_type": "code",
   "execution_count": 26,
   "id": "0867d2df-2f6c-43a0-921c-5e0c52dc7530",
   "metadata": {},
   "outputs": [],
   "source": [
    "HFiles=[('HIdf1.csv','HFdf1.csv'),('HIdf2.csv','HFdf2.csv'),('HIdf3.csv','HFdf3.csv'),('HIdf4.csv','HFdf4.csv'),('HIdf5.csv','HFdf5.csv')]"
   ]
  },
  {
   "cell_type": "code",
   "execution_count": 27,
   "id": "19e94a38-a40c-4853-b874-21d2fb0fc101",
   "metadata": {},
   "outputs": [
    {
     "name": "stdout",
     "output_type": "stream",
     "text": [
      "Results saved to 'HFdf1.csv'\n",
      "Results saved to 'HFdf2.csv'\n",
      "Results saved to 'HFdf3.csv'\n",
      "Results saved to 'HFdf4.csv'\n",
      "Results saved to 'HFdf5.csv'\n"
     ]
    }
   ],
   "source": [
    "for i,(input_file,output_file) in enumerate(HFiles):\n",
    "    top.run_topsis(input_file,weights,impacts,output_file)"
   ]
  },
  {
   "cell_type": "markdown",
   "id": "aa3c88cf-142e-4592-8bd5-ab71ace249b1",
   "metadata": {},
   "source": [
    "#### Importing results as dataframe"
   ]
  },
  {
   "cell_type": "code",
   "execution_count": 28,
   "id": "a794e14b-22e8-4e50-a5a6-3aae0acdbe11",
   "metadata": {},
   "outputs": [],
   "source": [
    "HFdf1=pd.read_csv('HFdf1.csv')\n",
    "HFdf2=pd.read_csv('HFdf2.csv')\n",
    "HFdf3=pd.read_csv('HFdf3.csv')\n",
    "HFdf4=pd.read_csv('HFdf4.csv')\n",
    "HFdf5=pd.read_csv('HFdf5.csv')"
   ]
  },
  {
   "cell_type": "markdown",
   "id": "4afd8fbc-9eeb-41aa-ae9f-cb7c5ada9345",
   "metadata": {},
   "source": [
    "#### Result"
   ]
  },
  {
   "cell_type": "code",
   "execution_count": 29,
   "id": "32f75ca2-681b-4912-a9ad-2079463f2291",
   "metadata": {},
   "outputs": [],
   "source": [
    "HResult=pd.concat([HFdf1,HFdf2,HFdf3,HFdf4,HFdf5])"
   ]
  },
  {
   "cell_type": "code",
   "execution_count": 30,
   "id": "8330163a-4b51-4b7a-8fe3-703e6a06055b",
   "metadata": {},
   "outputs": [
    {
     "data": {
      "text/html": [
       "<div>\n",
       "<style scoped>\n",
       "    .dataframe tbody tr th:only-of-type {\n",
       "        vertical-align: middle;\n",
       "    }\n",
       "\n",
       "    .dataframe tbody tr th {\n",
       "        vertical-align: top;\n",
       "    }\n",
       "\n",
       "    .dataframe thead th {\n",
       "        text-align: right;\n",
       "    }\n",
       "</style>\n",
       "<table border=\"1\" class=\"dataframe\">\n",
       "  <thead>\n",
       "    <tr style=\"text-align: right;\">\n",
       "      <th></th>\n",
       "      <th>Unnamed: 0</th>\n",
       "      <th>Meteor Score</th>\n",
       "      <th>Bleu Score</th>\n",
       "      <th>Rouge-1 Score</th>\n",
       "      <th>Gunning-Fog Index</th>\n",
       "      <th>Flesch-Kincaid</th>\n",
       "      <th>TOPSIS Score</th>\n",
       "      <th>Rank</th>\n",
       "    </tr>\n",
       "  </thead>\n",
       "  <tbody>\n",
       "    <tr>\n",
       "      <th>0</th>\n",
       "      <td>bart-large-cnn</td>\n",
       "      <td>0.219602</td>\n",
       "      <td>3.657375</td>\n",
       "      <td>0.393939</td>\n",
       "      <td>12.68</td>\n",
       "      <td>10.2</td>\n",
       "      <td>0.680730</td>\n",
       "      <td>2.0</td>\n",
       "    </tr>\n",
       "    <tr>\n",
       "      <th>1</th>\n",
       "      <td>t5-tokenizer</td>\n",
       "      <td>0.181226</td>\n",
       "      <td>4.007935</td>\n",
       "      <td>0.367647</td>\n",
       "      <td>7.25</td>\n",
       "      <td>8.4</td>\n",
       "      <td>0.782152</td>\n",
       "      <td>1.0</td>\n",
       "    </tr>\n",
       "    <tr>\n",
       "      <th>2</th>\n",
       "      <td>distilbart-cnn</td>\n",
       "      <td>0.154201</td>\n",
       "      <td>0.773349</td>\n",
       "      <td>0.360656</td>\n",
       "      <td>9.80</td>\n",
       "      <td>9.3</td>\n",
       "      <td>0.179208</td>\n",
       "      <td>4.0</td>\n",
       "    </tr>\n",
       "    <tr>\n",
       "      <th>3</th>\n",
       "      <td>bart-large-cnn-samsum</td>\n",
       "      <td>0.197590</td>\n",
       "      <td>1.788384</td>\n",
       "      <td>0.412214</td>\n",
       "      <td>12.68</td>\n",
       "      <td>11.1</td>\n",
       "      <td>0.357557</td>\n",
       "      <td>3.0</td>\n",
       "    </tr>\n",
       "    <tr>\n",
       "      <th>0</th>\n",
       "      <td>bart-large-cnn</td>\n",
       "      <td>0.217897</td>\n",
       "      <td>5.652792</td>\n",
       "      <td>0.468085</td>\n",
       "      <td>14.32</td>\n",
       "      <td>10.8</td>\n",
       "      <td>0.584889</td>\n",
       "      <td>2.0</td>\n",
       "    </tr>\n",
       "    <tr>\n",
       "      <th>1</th>\n",
       "      <td>t5-tokenizer</td>\n",
       "      <td>0.163337</td>\n",
       "      <td>2.968577</td>\n",
       "      <td>0.340136</td>\n",
       "      <td>9.17</td>\n",
       "      <td>12.2</td>\n",
       "      <td>0.380412</td>\n",
       "      <td>4.0</td>\n",
       "    </tr>\n",
       "    <tr>\n",
       "      <th>2</th>\n",
       "      <td>distilbart-cnn</td>\n",
       "      <td>0.202219</td>\n",
       "      <td>6.387366</td>\n",
       "      <td>0.447552</td>\n",
       "      <td>16.08</td>\n",
       "      <td>13.5</td>\n",
       "      <td>0.551979</td>\n",
       "      <td>3.0</td>\n",
       "    </tr>\n",
       "    <tr>\n",
       "      <th>3</th>\n",
       "      <td>bart-large-cnn-samsum</td>\n",
       "      <td>0.241499</td>\n",
       "      <td>6.628251</td>\n",
       "      <td>0.420290</td>\n",
       "      <td>11.41</td>\n",
       "      <td>10.4</td>\n",
       "      <td>0.772343</td>\n",
       "      <td>1.0</td>\n",
       "    </tr>\n",
       "    <tr>\n",
       "      <th>0</th>\n",
       "      <td>bart-large-cnn</td>\n",
       "      <td>0.149194</td>\n",
       "      <td>3.350138</td>\n",
       "      <td>0.337838</td>\n",
       "      <td>12.68</td>\n",
       "      <td>11.1</td>\n",
       "      <td>0.424205</td>\n",
       "      <td>3.0</td>\n",
       "    </tr>\n",
       "    <tr>\n",
       "      <th>1</th>\n",
       "      <td>t5-tokenizer</td>\n",
       "      <td>0.197888</td>\n",
       "      <td>6.824422</td>\n",
       "      <td>0.408451</td>\n",
       "      <td>13.16</td>\n",
       "      <td>10.3</td>\n",
       "      <td>0.856718</td>\n",
       "      <td>1.0</td>\n",
       "    </tr>\n",
       "    <tr>\n",
       "      <th>2</th>\n",
       "      <td>distilbart-cnn</td>\n",
       "      <td>0.177173</td>\n",
       "      <td>3.506127</td>\n",
       "      <td>0.405405</td>\n",
       "      <td>11.34</td>\n",
       "      <td>8.1</td>\n",
       "      <td>0.498213</td>\n",
       "      <td>2.0</td>\n",
       "    </tr>\n",
       "    <tr>\n",
       "      <th>3</th>\n",
       "      <td>bart-large-cnn-samsum</td>\n",
       "      <td>0.159817</td>\n",
       "      <td>1.023720</td>\n",
       "      <td>0.230216</td>\n",
       "      <td>15.91</td>\n",
       "      <td>13.9</td>\n",
       "      <td>0.189972</td>\n",
       "      <td>4.0</td>\n",
       "    </tr>\n",
       "    <tr>\n",
       "      <th>0</th>\n",
       "      <td>bart-large-cnn</td>\n",
       "      <td>0.188370</td>\n",
       "      <td>5.347337</td>\n",
       "      <td>0.315068</td>\n",
       "      <td>9.32</td>\n",
       "      <td>7.3</td>\n",
       "      <td>0.707321</td>\n",
       "      <td>2.0</td>\n",
       "    </tr>\n",
       "    <tr>\n",
       "      <th>1</th>\n",
       "      <td>t5-tokenizer</td>\n",
       "      <td>0.192421</td>\n",
       "      <td>5.064896</td>\n",
       "      <td>0.346667</td>\n",
       "      <td>10.74</td>\n",
       "      <td>7.7</td>\n",
       "      <td>0.674528</td>\n",
       "      <td>3.0</td>\n",
       "    </tr>\n",
       "    <tr>\n",
       "      <th>2</th>\n",
       "      <td>distilbart-cnn</td>\n",
       "      <td>0.205485</td>\n",
       "      <td>7.067582</td>\n",
       "      <td>0.331210</td>\n",
       "      <td>13.07</td>\n",
       "      <td>8.9</td>\n",
       "      <td>0.782394</td>\n",
       "      <td>1.0</td>\n",
       "    </tr>\n",
       "    <tr>\n",
       "      <th>3</th>\n",
       "      <td>bart-large-cnn-samsum</td>\n",
       "      <td>0.162436</td>\n",
       "      <td>1.028423</td>\n",
       "      <td>0.250000</td>\n",
       "      <td>10.07</td>\n",
       "      <td>8.3</td>\n",
       "      <td>0.186088</td>\n",
       "      <td>4.0</td>\n",
       "    </tr>\n",
       "    <tr>\n",
       "      <th>0</th>\n",
       "      <td>bart-large-cnn</td>\n",
       "      <td>0.148393</td>\n",
       "      <td>1.559808</td>\n",
       "      <td>0.277778</td>\n",
       "      <td>19.42</td>\n",
       "      <td>13.9</td>\n",
       "      <td>0.274549</td>\n",
       "      <td>4.0</td>\n",
       "    </tr>\n",
       "    <tr>\n",
       "      <th>1</th>\n",
       "      <td>t5-tokenizer</td>\n",
       "      <td>0.141666</td>\n",
       "      <td>0.752475</td>\n",
       "      <td>0.242991</td>\n",
       "      <td>9.18</td>\n",
       "      <td>5.6</td>\n",
       "      <td>0.329668</td>\n",
       "      <td>3.0</td>\n",
       "    </tr>\n",
       "    <tr>\n",
       "      <th>2</th>\n",
       "      <td>distilbart-cnn</td>\n",
       "      <td>0.181049</td>\n",
       "      <td>9.053053</td>\n",
       "      <td>0.355140</td>\n",
       "      <td>15.31</td>\n",
       "      <td>11.1</td>\n",
       "      <td>0.716693</td>\n",
       "      <td>2.0</td>\n",
       "    </tr>\n",
       "    <tr>\n",
       "      <th>3</th>\n",
       "      <td>bart-large-cnn-samsum</td>\n",
       "      <td>0.186122</td>\n",
       "      <td>9.388488</td>\n",
       "      <td>0.350877</td>\n",
       "      <td>8.00</td>\n",
       "      <td>8.4</td>\n",
       "      <td>0.820569</td>\n",
       "      <td>1.0</td>\n",
       "    </tr>\n",
       "  </tbody>\n",
       "</table>\n",
       "</div>"
      ],
      "text/plain": [
       "              Unnamed: 0  Meteor Score  Bleu Score  Rouge-1 Score  \\\n",
       "0         bart-large-cnn      0.219602    3.657375       0.393939   \n",
       "1           t5-tokenizer      0.181226    4.007935       0.367647   \n",
       "2         distilbart-cnn      0.154201    0.773349       0.360656   \n",
       "3  bart-large-cnn-samsum      0.197590    1.788384       0.412214   \n",
       "0         bart-large-cnn      0.217897    5.652792       0.468085   \n",
       "1           t5-tokenizer      0.163337    2.968577       0.340136   \n",
       "2         distilbart-cnn      0.202219    6.387366       0.447552   \n",
       "3  bart-large-cnn-samsum      0.241499    6.628251       0.420290   \n",
       "0         bart-large-cnn      0.149194    3.350138       0.337838   \n",
       "1           t5-tokenizer      0.197888    6.824422       0.408451   \n",
       "2         distilbart-cnn      0.177173    3.506127       0.405405   \n",
       "3  bart-large-cnn-samsum      0.159817    1.023720       0.230216   \n",
       "0         bart-large-cnn      0.188370    5.347337       0.315068   \n",
       "1           t5-tokenizer      0.192421    5.064896       0.346667   \n",
       "2         distilbart-cnn      0.205485    7.067582       0.331210   \n",
       "3  bart-large-cnn-samsum      0.162436    1.028423       0.250000   \n",
       "0         bart-large-cnn      0.148393    1.559808       0.277778   \n",
       "1           t5-tokenizer      0.141666    0.752475       0.242991   \n",
       "2         distilbart-cnn      0.181049    9.053053       0.355140   \n",
       "3  bart-large-cnn-samsum      0.186122    9.388488       0.350877   \n",
       "\n",
       "   Gunning-Fog Index  Flesch-Kincaid  TOPSIS Score  Rank  \n",
       "0              12.68            10.2      0.680730   2.0  \n",
       "1               7.25             8.4      0.782152   1.0  \n",
       "2               9.80             9.3      0.179208   4.0  \n",
       "3              12.68            11.1      0.357557   3.0  \n",
       "0              14.32            10.8      0.584889   2.0  \n",
       "1               9.17            12.2      0.380412   4.0  \n",
       "2              16.08            13.5      0.551979   3.0  \n",
       "3              11.41            10.4      0.772343   1.0  \n",
       "0              12.68            11.1      0.424205   3.0  \n",
       "1              13.16            10.3      0.856718   1.0  \n",
       "2              11.34             8.1      0.498213   2.0  \n",
       "3              15.91            13.9      0.189972   4.0  \n",
       "0               9.32             7.3      0.707321   2.0  \n",
       "1              10.74             7.7      0.674528   3.0  \n",
       "2              13.07             8.9      0.782394   1.0  \n",
       "3              10.07             8.3      0.186088   4.0  \n",
       "0              19.42            13.9      0.274549   4.0  \n",
       "1               9.18             5.6      0.329668   3.0  \n",
       "2              15.31            11.1      0.716693   2.0  \n",
       "3               8.00             8.4      0.820569   1.0  "
      ]
     },
     "execution_count": 30,
     "metadata": {},
     "output_type": "execute_result"
    }
   ],
   "source": [
    "HResult"
   ]
  },
  {
   "cell_type": "markdown",
   "id": "b55e85b0-f5dd-4493-9013-a8b3e9c30b85",
   "metadata": {},
   "source": [
    "### Politics"
   ]
  },
  {
   "cell_type": "markdown",
   "id": "2e078a7a-77d4-464f-8e82-6aa827cd61d2",
   "metadata": {},
   "source": [
    "#### Getting Text"
   ]
  },
  {
   "cell_type": "code",
   "execution_count": 31,
   "id": "d8dcc7aa-0ac7-45d8-ae4b-f32a7d9b77c8",
   "metadata": {},
   "outputs": [],
   "source": [
    "Ptext1=\"'Putting nation above politics': Investor hails PM Modi, FM Sitharaman for fiscal honestyMadhusudan lauded the government’s reform agenda, citing landmark initiatives like GST, the Insolvency and Bankruptcy Code (IBC), and gradual progress on labour laws, with sincere attempts at addressing land and agricultural reforms.Investor and author Harsh Madhusudan Gupta on Saturday shared an optimistic take on Finance Minister Nirmala Sitharaman’s Union Budget 2025-26, praising the government’s focus on reforms, fiscal discipline, and long-term growth. India is rising fast, and with the power of compounding, gradually one day starts looking like suddenly, Madhusudan said in a post on X. He acknowledged the government’s decisive steps in reducing taxes, both direct and indirect. PM Modi and FM Sitharaman have cut corporate taxes, income taxes, indirect taxes. Only the very top is paying more income taxes, he noted, highlighting how fiscal consolidation has been balanced with growth-oriented reforms. Madhusudan credited Digital Public Infrastructure (DPI) for enhancing the efficiency of welfare spending, a move that aligns with the government’s broader vision of inclusive development.On fiscal prudence, he commended the government’s honest approach, stating, They have been honest with respect to fiscal consolidation, and along with the RBI on inflation targeting. One can argue a bit too inflexibly by the book, but nonetheless putting nation above politics. This, he suggested, reflects a commitment to long-term stability over short-term populism.The Centre has lowered its fiscal deficit target to 4.8% of GDP for the current financial year, down from the earlier estimate of 4.9%. For the next financial year, the fiscal deficit has been pegged at 4.4% of GDP, signaling a continued commitment to fiscal consolidation.Madhusudan lauded the government’s reform agenda, citing landmark initiatives like GST, the Insolvency and Bankruptcy Code (IBC), and gradual progress on labour laws, with sincere attempts at addressing land and agricultural reforms. While acknowledging areas where more could have been done, such as privatisation and disinvestment, he remarked, It is what it is, indicating that reforms are often a work in progress.With a strong focus on infrastructure and a growing emphasis on manufacturing, including defense indigenization, Madhusudan believes India is poised for a new growth phase. India is ready. We have to think of industrial policy when it comes to software, but that is not urgent even as it is important, he said.\"\n",
    "\n",
    "Ptext2=\"'More about politics, less about people': BSP president Mayawati on Budget 2025BSP President Mayawati criticizes the Union Budget 2025 for prioritizing politics over resolving real issues like inflation, poverty, and unemployment. Congress MP Jairam Ramesh also expresses concerns over ignored proposals and bias towards Bihar, leading to opposition MPs staging a walkout in protest.NEW DELHI: Bahujan Samaj Party (BSP) President Mayawati took a swipe at the Union Budget 2025, saying it focuses more on politics than addressing people's real problems. Finance minister Nirmala Sitharaman presented the budget on Saturday.Taking to social media platform X, Mayawati pointed out the struggles of India's massive population, citing inflation, poverty, unemployment, and inadequate basic facilities such as roads, water, and education. She said these issues should have been tackled through the Budget.Due to the tremendous blow of inflation, poverty, unemployment in the country, along with the lack of necessary basic facilities like roads, water, education, peace and comfort, the lives of people in India with a huge population of about 140 crores are quite troubled, which also needs to be resolved through the Union Budget, she said on X.She accused the BJP government of following the same approach as the Congress, questioning why people's hardships continue under their rule.But the budget of the current BJP government, like that of the Congress, seems to be more about political interests and less about the people and the country. If this is not so, then why is the life of the people continuously troubled, miserable and unhappy under this government too?, she said on X.Meanwhile, Congress MP Jairam Ramesh also criticised the Finance Minister, pointing out the rejection of proposals such as adding breakfast to school meals and increasing the honorarium for Anganwadi workers under Saksham Anganwadi and Poshan 2.0.Ramesh claimed that the budget was biased towards the NDA-ruled state of Bihar while ignoring other states like Andhra Pradesh.\"\n",
    "\n",
    "Ptext3=\"Why so few women are in political leadership, and five actions to boost women’s political participation In one of the biggest electoral years in recent history, 107 countries have never had a woman Head of State. In 2024, women held only 27 per cent of seats in national parliaments and 35.5 per cent of seats in local governments.The United Nations promotes the principles that underly the ideal of democracy: peace, security, development, and human rights. In democratic systems, women and men have equal rights and are free from discrimination, and people have a say in decisions and can hold decision-makers accountable.Women’s political participation is critical for a well-functioning democracy. Their inclusion is a matter of justice and a key factor in creating more effective governance. Having more women in policymaking has shown to help advance legislation on crucial issues, such as health, education, childcare, infrastructure and ending violence against women and serve as an inspiration for girls to pursue higher education and career opportunities.Yet, women’s voices are missing from decision-making in every region of the world.On the International Day of Democracy on 15 September, and in the run-up to the 30th anniversary of the visionary Beijing Declaration and Platform for Action—the most comprehensive global agenda for the achievement of gender equality and the empowerment of women and girls—find out why there are so few women in decision-making and what can be done to close the gap.The most significant gap in women’s political representation is found at the highest levels of power. Today, only 27 countries are led by a woman, a modest increase from just 18 countries a decade ago, and 107 countries have never had a woman leader.Women make up only 23 per cent of cabinet members heading ministries worldwide, and just 15 countries have cabinets with parity between women and men. In 141 countries, women hold less than one-third of cabinet minister positions, and seven countries have no women represented in their cabinets at all. At the current rate of progress, gender parity at the cabinet level will not be reached before 2077.Globally, representation of women in parliaments stand at 27 per cent and parity is not expected to be achieved for another 39 years.At the local level, women constitute 35.5 per cent of elected members as of this year.This year, at least 63 countries are holding presidential and parliamentary elections – an unprecedented 1.6 billion people will cast their votes in 2024.The countries going to elections include some of the highest and lowest in terms of women’s participation in the parliament: Mexico and Rwanda are the only two countries with 50/50 representation of women and men.Only seven countries have women’s political participation at 40 to 49.9 per centage, as of January 2024 – Austria, Belarus, Belgium, Mozambique, Namibia, North Macedonia and South Africa), while six countries are at 5 to 8 percentage – Iran, Kiribati, Maldives, Palau, Solomon Islands and Tuvalu.\"\n",
    "\n",
    "Ptext4=\"Politics may be used positively in the context of a political solutionbwhich is compromising and non-violent,or descriptively as the art or science of government, but the word often also carries a negative connotation.The concept has been defined in various ways, and different approaches have fundamentally differing views on whether it should be used extensively or in a limited way, empirically or normatively, and on whether conflict or co-operation is more essential to it.A variety of methods are deployed in politics, which include promoting one's own political views among people, negotiation with other political subjects, making laws, and exercising internal and external force, including warfare against adversaries. Politics is exercised on a wide range of social levels, from clans and tribes of traditional societies, through modern local governments, companies and institutions up to sovereign states, to the international level.In modern nation states, people often form political parties to represent their ideas. Members of a party often agree to take the same position on many issues and agree to support the same changes to law and the same leaders. An election is usually a competition between different parties.A political system is a framework which defines acceptable political methods within a society. The history of political thought can be traced back to early antiquity, with seminal works such as Plato's Republic, Aristotle's Politics, Confucius's political manuscripts and Chanakya's Arthashastra.\"\n",
    "\n",
    "Ptext5=\"Politics is the process by which groups of people make collective decisions. It is the art and science of government, and it encompasses a wide range of activities, from running for office to lobbying for legislation to simply voting in an election.Politics is an essential part of any society. It is the way we decide who gets what, when, and how. It is the way we resolve conflicts and make collective decisions about our future.There are many different political systems in the world, but they all share some common features. They all have some form of government, which is responsible for making and enforcing laws. They all have some way of selecting leaders, whether through elections or some other process. And they all have some way of resolving conflicts, whether through negotiation, compromise, or force.Politics can be a force for good or for evil. It can be used to promote justice and equality, or it can be used to oppress and exploit others. It all depends on the people who are involved in politics and the values they hold.In a democracy, it is the responsibility of citizens to be informed about the issues and to participate in the political process. This means voting in elections, contacting elected officials, and even running for office themselves .Politics is not always pretty. It can be a dirty business, full of corruption and backstabbing. But it is also an essential part of our lives. It is the way we make decisions about our future, and it is the way we hold our leaders accountable.If you are interested in learning more about politics, there are many resources available. You can read books and articles, watch documentaries, or even take a class on political science. You can also get involved in politics by volunteering for a campaign or joining a political organization.Politics is not for everyone, but it is important for everyone to be informed about the issues. After all, it is our future that is at stake.\""
   ]
  },
  {
   "cell_type": "markdown",
   "id": "14392340-0032-4b95-bb88-914b85c18d38",
   "metadata": {},
   "source": [
    "#### Summarized Text (Using Chat-GPT)"
   ]
  },
  {
   "cell_type": "code",
   "execution_count": 32,
   "id": "a2046d45-12ba-4589-ae88-c7633bbca7b4",
   "metadata": {},
   "outputs": [],
   "source": [
    "PStext1=\"Investor Harsh Madhusudan Gupta praised PM Modi and FM Sitharaman for their fiscal honesty and reform-driven approach in Budget 2025-26. He highlighted key initiatives like GST, IBC, and Digital Public Infrastructure, along with tax reductions and fiscal consolidation. While acknowledging the need for more privatization, he lauded India’s growth trajectory, infrastructure focus, and manufacturing push. He emphasized the government’s commitment to long-term stability over short-term populism, citing a reduced fiscal deficit target of 4.4% for the next financial year.\"\n",
    "\n",
    "PStext2=\"BSP President Mayawati criticized the Union Budget 2025 for prioritizing politics over real issues like inflation, poverty, and unemployment. She accused the BJP of following Congress’s approach, questioning the lack of improvement in people's lives. Congress MP Jairam Ramesh also condemned the budget for rejecting key welfare proposals and showing favoritism toward Bihar. Opposition MPs protested by staging a walkout, highlighting concerns over neglecting other states and failing to address essential public needs.\"\n",
    "\n",
    "PStext3=\"Despite progress, women remain underrepresented in political leadership, with only 27% of parliamentary seats and 23% of cabinet positions held by women. 107 countries have never had a woman Head of State, and gender parity in governance is decades away. The UN emphasizes women's political participation as vital for democracy and effective policymaking. In 2024, elections in 63 countries highlight disparities, with Mexico and Rwanda achieving 50/50 representation, while some nations still have minimal female leadership.\"\n",
    "\n",
    "PStext4=\"Politics can be viewed positively as a means of compromise and governance or negatively due to conflict. It involves negotiation, lawmaking, and power exercises at various social levels, from local to international. Political parties represent collective ideas, competing in elections to influence laws and leadership. Different political systems define acceptable practices. Political thought dates back to antiquity, with influential works by Plato, Aristotle, Confucius, and Chanakya shaping modern governance concepts.\"\n",
    "\n",
    "PStext5=\"Politics is the process of collective decision-making, shaping governance, lawmaking, and leadership selection. It plays a crucial role in resolving conflicts and determining resource distribution. While politics can promote justice or be misused for oppression, citizen participation is vital in a democracy through voting, advocacy, and leadership. Though often marked by corruption, politics remains essential for shaping the future. Staying informed through reading, discussions, or active involvement helps individuals contribute to a better political system.\""
   ]
  },
  {
   "cell_type": "markdown",
   "id": "d142d3be-9f7d-4125-ab0d-29b4eda43928",
   "metadata": {},
   "source": [
    "#### Generating scores for all texts"
   ]
  },
  {
   "cell_type": "code",
   "execution_count": 33,
   "id": "d58bec34-6fd0-4389-8975-ab771a834709",
   "metadata": {},
   "outputs": [],
   "source": [
    "PImatrix1=np.zeros((4,5))\n",
    "PImatrix2=np.zeros((4,5))\n",
    "PImatrix3=np.zeros((4,5))\n",
    "PImatrix4=np.zeros((4,5))\n",
    "PImatrix5=np.zeros((4,5))"
   ]
  },
  {
   "cell_type": "code",
   "execution_count": 34,
   "id": "f8c57408-0400-42d1-a929-8550426db68f",
   "metadata": {},
   "outputs": [],
   "source": [
    "Ptext=[(PImatrix1,PStext1,Ptext1),(PImatrix2,PStext2,Ptext2),(PImatrix3,PStext3,Ptext3),(PImatrix4,PStext4,Ptext4),(PImatrix5,PStext5,Ptext5)]"
   ]
  },
  {
   "cell_type": "code",
   "execution_count": 35,
   "id": "92c0e1d9-a67e-45e5-b849-879466ad327a",
   "metadata": {},
   "outputs": [
    {
     "name": "stderr",
     "output_type": "stream",
     "text": [
      "Device set to use cpu\n",
      "Device set to use cpu\n",
      "Device set to use cpu\n",
      "Device set to use cpu\n",
      "Device set to use cpu\n",
      "Device set to use cpu\n",
      "Device set to use cpu\n",
      "Device set to use cpu\n",
      "Device set to use cpu\n",
      "Device set to use cpu\n",
      "Device set to use cpu\n",
      "Device set to use cpu\n",
      "Device set to use cpu\n",
      "Device set to use cpu\n",
      "Device set to use cpu\n"
     ]
    }
   ],
   "source": [
    "for k,(matrix,reference,text) in enumerate(Ptext):\n",
    "    for i, model in enumerate(models):\n",
    "        generated=model(text)\n",
    "        for j,metric in enumerate(parameters):\n",
    "            matrix[i,j]=metric(reference,generated)"
   ]
  },
  {
   "cell_type": "markdown",
   "id": "b860e8a8-b7b2-4ab7-9fda-575423777be3",
   "metadata": {},
   "source": [
    "#### Converting arrays into dataframes"
   ]
  },
  {
   "cell_type": "code",
   "execution_count": 36,
   "id": "da898a04-df38-4fdb-8f57-31c5dffadeb2",
   "metadata": {},
   "outputs": [],
   "source": [
    "PIdf1=pd.DataFrame(PImatrix1,index=['bart-large-cnn','t5-tokenizer','distilbart-cnn','bart-large-cnn-samsum'])\n",
    "PIdf2=pd.DataFrame(PImatrix2,index=['bart-large-cnn','t5-tokenizer','distilbart-cnn','bart-large-cnn-samsum'])\n",
    "PIdf3=pd.DataFrame(PImatrix3,index=['bart-large-cnn','t5-tokenizer','distilbart-cnn','bart-large-cnn-samsum'])\n",
    "PIdf4=pd.DataFrame(PImatrix4,index=['bart-large-cnn','t5-tokenizer','distilbart-cnn','bart-large-cnn-samsum'])\n",
    "PIdf5=pd.DataFrame(PImatrix5,index=['bart-large-cnn','t5-tokenizer','distilbart-cnn','bart-large-cnn-samsum'])"
   ]
  },
  {
   "cell_type": "code",
   "execution_count": 37,
   "id": "d080ef99-1513-4de0-9c0e-c0d5bbe71b80",
   "metadata": {},
   "outputs": [],
   "source": [
    "PIdataframes=[PIdf1,PIdf2,PIdf3,PIdf4,PIdf5]"
   ]
  },
  {
   "cell_type": "code",
   "execution_count": 38,
   "id": "71c3fe85-7811-4bdf-9c38-c5322b17d0f7",
   "metadata": {},
   "outputs": [],
   "source": [
    "for i,df in enumerate(PIdataframes):\n",
    "    df.columns=['Meteor Score','Bleu Score','Rouge-1 Score','Gunning-Fog Index','Flesch-Kincaid']"
   ]
  },
  {
   "cell_type": "markdown",
   "id": "cd3bd851-bd09-4f0c-a20d-f59d52e0fa97",
   "metadata": {},
   "source": [
    "#### Saving dataframes as csv (for our own topsis function)"
   ]
  },
  {
   "cell_type": "code",
   "execution_count": 39,
   "id": "eb172339-28b7-4b8e-8896-7f41c4f9b3b3",
   "metadata": {},
   "outputs": [],
   "source": [
    "PIdf1.to_csv('PIdf1.csv')\n",
    "PIdf2.to_csv('PIdf2.csv')\n",
    "PIdf3.to_csv('PIdf3.csv')\n",
    "PIdf4.to_csv('PIdf4.csv')\n",
    "PIdf5.to_csv('PIdf5.csv')"
   ]
  },
  {
   "cell_type": "markdown",
   "id": "ca6e8134-850d-4a8e-bc9d-01d772109668",
   "metadata": {},
   "source": [
    "#### Applying Topsis"
   ]
  },
  {
   "cell_type": "code",
   "execution_count": 40,
   "id": "fd20811b-6be2-4cc8-91fe-74a14cb186aa",
   "metadata": {},
   "outputs": [],
   "source": [
    "import topsis_mohit_102397005 as top"
   ]
  },
  {
   "cell_type": "code",
   "execution_count": 41,
   "id": "9d2aea3a-9f2c-466f-85e1-addeaf19cca2",
   "metadata": {},
   "outputs": [],
   "source": [
    "PFiles=[('PIdf1.csv','PFdf1.csv'),('PIdf2.csv','PFdf2.csv'),('PIdf3.csv','PFdf3.csv'),('PIdf4.csv','PFdf4.csv'),('PIdf5.csv','PFdf5.csv')]"
   ]
  },
  {
   "cell_type": "code",
   "execution_count": 42,
   "id": "f38d7df1-b0b1-4f84-965f-e57f8dbd9e2f",
   "metadata": {},
   "outputs": [
    {
     "name": "stdout",
     "output_type": "stream",
     "text": [
      "Results saved to 'PFdf1.csv'\n",
      "Results saved to 'PFdf2.csv'\n",
      "Results saved to 'PFdf3.csv'\n",
      "Results saved to 'PFdf4.csv'\n",
      "Results saved to 'PFdf5.csv'\n"
     ]
    }
   ],
   "source": [
    "for i,(input_file,output_file) in enumerate(PFiles):\n",
    "    top.run_topsis(input_file,weights,impacts,output_file)"
   ]
  },
  {
   "cell_type": "markdown",
   "id": "440619c5-1cec-40a5-ba36-bdff27acae0a",
   "metadata": {},
   "source": [
    "#### Importing results as dataframe"
   ]
  },
  {
   "cell_type": "code",
   "execution_count": 43,
   "id": "36be440d-ab71-4309-9256-74c6779005f7",
   "metadata": {},
   "outputs": [],
   "source": [
    "PFdf1=pd.read_csv('PFdf1.csv')\n",
    "PFdf2=pd.read_csv('PFdf2.csv')\n",
    "PFdf3=pd.read_csv('PFdf3.csv')\n",
    "PFdf4=pd.read_csv('PFdf4.csv')\n",
    "PFdf5=pd.read_csv('PFdf5.csv')"
   ]
  },
  {
   "cell_type": "markdown",
   "id": "9f5b88c5-2364-4117-b3c3-dc4e4de71fa2",
   "metadata": {},
   "source": [
    "#### Result"
   ]
  },
  {
   "cell_type": "code",
   "execution_count": 44,
   "id": "d29fccbc-29fc-4c75-92f6-ae9ceca6ba18",
   "metadata": {},
   "outputs": [],
   "source": [
    "PResult=pd.concat([PFdf1,PFdf2,PFdf3,PFdf4,PFdf5])"
   ]
  },
  {
   "cell_type": "code",
   "execution_count": 45,
   "id": "a3df2a8e-cc2b-42b2-ab54-8ffa0e990af1",
   "metadata": {},
   "outputs": [
    {
     "data": {
      "text/html": [
       "<div>\n",
       "<style scoped>\n",
       "    .dataframe tbody tr th:only-of-type {\n",
       "        vertical-align: middle;\n",
       "    }\n",
       "\n",
       "    .dataframe tbody tr th {\n",
       "        vertical-align: top;\n",
       "    }\n",
       "\n",
       "    .dataframe thead th {\n",
       "        text-align: right;\n",
       "    }\n",
       "</style>\n",
       "<table border=\"1\" class=\"dataframe\">\n",
       "  <thead>\n",
       "    <tr style=\"text-align: right;\">\n",
       "      <th></th>\n",
       "      <th>Unnamed: 0</th>\n",
       "      <th>Meteor Score</th>\n",
       "      <th>Bleu Score</th>\n",
       "      <th>Rouge-1 Score</th>\n",
       "      <th>Gunning-Fog Index</th>\n",
       "      <th>Flesch-Kincaid</th>\n",
       "      <th>TOPSIS Score</th>\n",
       "      <th>Rank</th>\n",
       "    </tr>\n",
       "  </thead>\n",
       "  <tbody>\n",
       "    <tr>\n",
       "      <th>0</th>\n",
       "      <td>bart-large-cnn</td>\n",
       "      <td>0.264528</td>\n",
       "      <td>7.723828</td>\n",
       "      <td>0.384000</td>\n",
       "      <td>11.47</td>\n",
       "      <td>8.0</td>\n",
       "      <td>0.511318</td>\n",
       "      <td>2.0</td>\n",
       "    </tr>\n",
       "    <tr>\n",
       "      <th>1</th>\n",
       "      <td>t5-tokenizer</td>\n",
       "      <td>0.274338</td>\n",
       "      <td>7.426853</td>\n",
       "      <td>0.369231</td>\n",
       "      <td>16.00</td>\n",
       "      <td>13.6</td>\n",
       "      <td>0.476561</td>\n",
       "      <td>3.0</td>\n",
       "    </tr>\n",
       "    <tr>\n",
       "      <th>2</th>\n",
       "      <td>distilbart-cnn</td>\n",
       "      <td>0.304545</td>\n",
       "      <td>4.979768</td>\n",
       "      <td>0.432000</td>\n",
       "      <td>12.49</td>\n",
       "      <td>9.3</td>\n",
       "      <td>0.365259</td>\n",
       "      <td>4.0</td>\n",
       "    </tr>\n",
       "    <tr>\n",
       "      <th>3</th>\n",
       "      <td>bart-large-cnn-samsum</td>\n",
       "      <td>0.281180</td>\n",
       "      <td>9.247552</td>\n",
       "      <td>0.416000</td>\n",
       "      <td>10.36</td>\n",
       "      <td>8.0</td>\n",
       "      <td>0.652090</td>\n",
       "      <td>1.0</td>\n",
       "    </tr>\n",
       "    <tr>\n",
       "      <th>0</th>\n",
       "      <td>bart-large-cnn</td>\n",
       "      <td>0.495135</td>\n",
       "      <td>26.608342</td>\n",
       "      <td>0.637931</td>\n",
       "      <td>15.24</td>\n",
       "      <td>12.2</td>\n",
       "      <td>0.873284</td>\n",
       "      <td>2.0</td>\n",
       "    </tr>\n",
       "    <tr>\n",
       "      <th>1</th>\n",
       "      <td>t5-tokenizer</td>\n",
       "      <td>0.135263</td>\n",
       "      <td>0.531238</td>\n",
       "      <td>0.204082</td>\n",
       "      <td>11.56</td>\n",
       "      <td>7.8</td>\n",
       "      <td>0.165110</td>\n",
       "      <td>4.0</td>\n",
       "    </tr>\n",
       "    <tr>\n",
       "      <th>2</th>\n",
       "      <td>distilbart-cnn</td>\n",
       "      <td>0.516605</td>\n",
       "      <td>27.617604</td>\n",
       "      <td>0.655462</td>\n",
       "      <td>14.97</td>\n",
       "      <td>11.4</td>\n",
       "      <td>0.883414</td>\n",
       "      <td>1.0</td>\n",
       "    </tr>\n",
       "    <tr>\n",
       "      <th>3</th>\n",
       "      <td>bart-large-cnn-samsum</td>\n",
       "      <td>0.393199</td>\n",
       "      <td>19.508083</td>\n",
       "      <td>0.550459</td>\n",
       "      <td>17.39</td>\n",
       "      <td>13.5</td>\n",
       "      <td>0.668141</td>\n",
       "      <td>3.0</td>\n",
       "    </tr>\n",
       "    <tr>\n",
       "      <th>0</th>\n",
       "      <td>bart-large-cnn</td>\n",
       "      <td>0.278454</td>\n",
       "      <td>10.333713</td>\n",
       "      <td>0.456140</td>\n",
       "      <td>9.25</td>\n",
       "      <td>6.7</td>\n",
       "      <td>0.290805</td>\n",
       "      <td>3.0</td>\n",
       "    </tr>\n",
       "    <tr>\n",
       "      <th>1</th>\n",
       "      <td>t5-tokenizer</td>\n",
       "      <td>0.286040</td>\n",
       "      <td>12.378256</td>\n",
       "      <td>0.406780</td>\n",
       "      <td>6.00</td>\n",
       "      <td>4.8</td>\n",
       "      <td>0.484647</td>\n",
       "      <td>2.0</td>\n",
       "    </tr>\n",
       "    <tr>\n",
       "      <th>2</th>\n",
       "      <td>distilbart-cnn</td>\n",
       "      <td>0.298879</td>\n",
       "      <td>7.475518</td>\n",
       "      <td>0.438095</td>\n",
       "      <td>8.10</td>\n",
       "      <td>5.5</td>\n",
       "      <td>0.178096</td>\n",
       "      <td>4.0</td>\n",
       "    </tr>\n",
       "    <tr>\n",
       "      <th>3</th>\n",
       "      <td>bart-large-cnn-samsum</td>\n",
       "      <td>0.346449</td>\n",
       "      <td>18.039827</td>\n",
       "      <td>0.480620</td>\n",
       "      <td>8.00</td>\n",
       "      <td>7.1</td>\n",
       "      <td>0.789937</td>\n",
       "      <td>1.0</td>\n",
       "    </tr>\n",
       "    <tr>\n",
       "      <th>0</th>\n",
       "      <td>bart-large-cnn</td>\n",
       "      <td>0.227575</td>\n",
       "      <td>4.496155</td>\n",
       "      <td>0.368000</td>\n",
       "      <td>21.17</td>\n",
       "      <td>17.4</td>\n",
       "      <td>0.630547</td>\n",
       "      <td>1.0</td>\n",
       "    </tr>\n",
       "    <tr>\n",
       "      <th>1</th>\n",
       "      <td>t5-tokenizer</td>\n",
       "      <td>0.162744</td>\n",
       "      <td>1.234138</td>\n",
       "      <td>0.269231</td>\n",
       "      <td>8.11</td>\n",
       "      <td>11.3</td>\n",
       "      <td>0.372882</td>\n",
       "      <td>3.0</td>\n",
       "    </tr>\n",
       "    <tr>\n",
       "      <th>2</th>\n",
       "      <td>distilbart-cnn</td>\n",
       "      <td>0.149871</td>\n",
       "      <td>3.343718</td>\n",
       "      <td>0.293103</td>\n",
       "      <td>19.67</td>\n",
       "      <td>15.6</td>\n",
       "      <td>0.429087</td>\n",
       "      <td>2.0</td>\n",
       "    </tr>\n",
       "    <tr>\n",
       "      <th>3</th>\n",
       "      <td>bart-large-cnn-samsum</td>\n",
       "      <td>0.208101</td>\n",
       "      <td>1.355375</td>\n",
       "      <td>0.392857</td>\n",
       "      <td>17.03</td>\n",
       "      <td>14.4</td>\n",
       "      <td>0.340136</td>\n",
       "      <td>4.0</td>\n",
       "    </tr>\n",
       "    <tr>\n",
       "      <th>0</th>\n",
       "      <td>bart-large-cnn</td>\n",
       "      <td>0.246378</td>\n",
       "      <td>5.057381</td>\n",
       "      <td>0.472441</td>\n",
       "      <td>9.04</td>\n",
       "      <td>7.1</td>\n",
       "      <td>0.745717</td>\n",
       "      <td>1.0</td>\n",
       "    </tr>\n",
       "    <tr>\n",
       "      <th>1</th>\n",
       "      <td>t5-tokenizer</td>\n",
       "      <td>0.196154</td>\n",
       "      <td>1.986426</td>\n",
       "      <td>0.396825</td>\n",
       "      <td>10.40</td>\n",
       "      <td>7.2</td>\n",
       "      <td>0.187606</td>\n",
       "      <td>4.0</td>\n",
       "    </tr>\n",
       "    <tr>\n",
       "      <th>2</th>\n",
       "      <td>distilbart-cnn</td>\n",
       "      <td>0.201078</td>\n",
       "      <td>3.298672</td>\n",
       "      <td>0.394161</td>\n",
       "      <td>12.71</td>\n",
       "      <td>11.2</td>\n",
       "      <td>0.428417</td>\n",
       "      <td>3.0</td>\n",
       "    </tr>\n",
       "    <tr>\n",
       "      <th>3</th>\n",
       "      <td>bart-large-cnn-samsum</td>\n",
       "      <td>0.208092</td>\n",
       "      <td>3.789361</td>\n",
       "      <td>0.459259</td>\n",
       "      <td>9.47</td>\n",
       "      <td>6.7</td>\n",
       "      <td>0.519339</td>\n",
       "      <td>2.0</td>\n",
       "    </tr>\n",
       "  </tbody>\n",
       "</table>\n",
       "</div>"
      ],
      "text/plain": [
       "              Unnamed: 0  Meteor Score  Bleu Score  Rouge-1 Score  \\\n",
       "0         bart-large-cnn      0.264528    7.723828       0.384000   \n",
       "1           t5-tokenizer      0.274338    7.426853       0.369231   \n",
       "2         distilbart-cnn      0.304545    4.979768       0.432000   \n",
       "3  bart-large-cnn-samsum      0.281180    9.247552       0.416000   \n",
       "0         bart-large-cnn      0.495135   26.608342       0.637931   \n",
       "1           t5-tokenizer      0.135263    0.531238       0.204082   \n",
       "2         distilbart-cnn      0.516605   27.617604       0.655462   \n",
       "3  bart-large-cnn-samsum      0.393199   19.508083       0.550459   \n",
       "0         bart-large-cnn      0.278454   10.333713       0.456140   \n",
       "1           t5-tokenizer      0.286040   12.378256       0.406780   \n",
       "2         distilbart-cnn      0.298879    7.475518       0.438095   \n",
       "3  bart-large-cnn-samsum      0.346449   18.039827       0.480620   \n",
       "0         bart-large-cnn      0.227575    4.496155       0.368000   \n",
       "1           t5-tokenizer      0.162744    1.234138       0.269231   \n",
       "2         distilbart-cnn      0.149871    3.343718       0.293103   \n",
       "3  bart-large-cnn-samsum      0.208101    1.355375       0.392857   \n",
       "0         bart-large-cnn      0.246378    5.057381       0.472441   \n",
       "1           t5-tokenizer      0.196154    1.986426       0.396825   \n",
       "2         distilbart-cnn      0.201078    3.298672       0.394161   \n",
       "3  bart-large-cnn-samsum      0.208092    3.789361       0.459259   \n",
       "\n",
       "   Gunning-Fog Index  Flesch-Kincaid  TOPSIS Score  Rank  \n",
       "0              11.47             8.0      0.511318   2.0  \n",
       "1              16.00            13.6      0.476561   3.0  \n",
       "2              12.49             9.3      0.365259   4.0  \n",
       "3              10.36             8.0      0.652090   1.0  \n",
       "0              15.24            12.2      0.873284   2.0  \n",
       "1              11.56             7.8      0.165110   4.0  \n",
       "2              14.97            11.4      0.883414   1.0  \n",
       "3              17.39            13.5      0.668141   3.0  \n",
       "0               9.25             6.7      0.290805   3.0  \n",
       "1               6.00             4.8      0.484647   2.0  \n",
       "2               8.10             5.5      0.178096   4.0  \n",
       "3               8.00             7.1      0.789937   1.0  \n",
       "0              21.17            17.4      0.630547   1.0  \n",
       "1               8.11            11.3      0.372882   3.0  \n",
       "2              19.67            15.6      0.429087   2.0  \n",
       "3              17.03            14.4      0.340136   4.0  \n",
       "0               9.04             7.1      0.745717   1.0  \n",
       "1              10.40             7.2      0.187606   4.0  \n",
       "2              12.71            11.2      0.428417   3.0  \n",
       "3               9.47             6.7      0.519339   2.0  "
      ]
     },
     "execution_count": 45,
     "metadata": {},
     "output_type": "execute_result"
    }
   ],
   "source": [
    "PResult"
   ]
  },
  {
   "cell_type": "markdown",
   "id": "7702ac1c-f70e-43c1-94a0-893fc61aae71",
   "metadata": {},
   "source": [
    "### Sports"
   ]
  },
  {
   "cell_type": "markdown",
   "id": "3075256c-40cd-40c4-8f61-c788979b0004",
   "metadata": {},
   "source": [
    "#### Getting Text"
   ]
  },
  {
   "cell_type": "code",
   "execution_count": 46,
   "id": "ee109e8f-8c7e-4887-bfd2-61bd761c83b7",
   "metadata": {},
   "outputs": [],
   "source": [
    "Stext1=\"Sports News Today highlights: In the dynamic world of sports, every match and series brings fresh excitement. Our Sports News offers real-time updates and in-depth coverage of cricket series, hockey showdowns, and badminton tournaments, bringing you closer to the games you love. From thrilling last-ball finishes in cricket to high-stakes hockey matches and intense badminton rallies, we deliver insights, key moments, and player achievements. Our goal is to keep you connected to the latest action, whether it’s a league championship, an international series, or a standout individual performance, so you’re always in the know on the biggest stories in sports.Sports News Today highlights on January 30, 2025: ICC Champions Trophy 2025: Rohit Sharma won’t travel to Pakistan.\"\n",
    "\n",
    "Stext2=\"Plenty of emotions were on show as India overcame South Africa in a terrific performance in the ICC U-19 Women's T20 World Cup final in Kuala LumpurIn what can only be described as a moment of serendipity, India’s winning runs in the final of the ICC U19 Women’s T20 World Cup came with Sanika Chalke finding the boundary right in front of her team’s dugout, with her team ready with the tricolored flag in their hands and running onto the field as soon as the ball found the boundary at the Bayuemas Oval in Kuala Lumpur.India’s charge throughout was led by G Trisha, who racked up 309 runs in the tournament, well ahead of the chasing pack in that regard, while also providing a match-winning performance in the final with a spell of 3-15 and 44* with bat in hand to seal a 9-wicket victory over South Africa.The bowling was led by a trio of left-arm orthodox spinners in Vaishnavi Sharma, Aayushi Shukla, and Parunika Sisodia, who were phenomenal in the final to stifle the South African attack.Having won the inaugural edition of the tournament in 2023, India were nonetheless clearly proud to keep their hands on the trophy thanks to their power-packed performance throughout. Niki Prasad, captain of the team, also continues to have success as leader of the unit, having won the U-19 Asia Cup in December as well.\"\n",
    "\n",
    "Stext3=\"The England team management has said that it has moved on from the concussion controversy but the issue is not exactly dying. Sunil Gavaskar and a few prominent English voices have weighed in on the matter. One of the Englishmen was actually quite scathing in his criticism, alleging bias and corruption.Independent match officials were brought in to stop situations like this! Why are the ICC returning to the 'bad old days' of bias and corruption?, Chris Broad, a former England opener, more famously one of the decorated International Cricket Council (ICC) match referees, said on X (formerly Twitter).In another social media post, which has now been deleted, he had said that the ICC should allow only neutral match referees. Ironically enough, as recently as last May, he was the match referee for a couple of T20 games between England and Pakistan. More specifically, he oversaw the games at the Oval and Edgbaston in May 2024. Asked to comment on the posts, he told Cricbuzz, I have nothing more to say.Broad has officiated in 622 games, third most by any ICC match referee after Ranjan Madugalle (798) and Jeff Crowe (656). Cricbuzz has reached out to the ICC for a comment.Michael Vaughan, a former England captain, made a couple of comments but those were retweets on the subject. He sarcastically said that Harshit Rana, He is going to be some player if he bats like Dube as well.Another former England captain Kevin Pietersen said Rana for Dube was not a like for like replacement. Concussion sub is quite the topic everywhere here atm and my view is...it was NEVER a like for like replacement and the match referee should just hold his hand up and say he got that one wrong. End of event for good and we move on to another great clash this evening (sic),the former England cricketer, here in India as a commentator, remarked. Pietersen's comments reflected England skipper Jos Buttler, who was also clear that the Indian team fielded 12 players in the Pune T20I.Sunil Gavaskar came down heavily on the Indian team management. In his column in Telegraph, the former India captain wrote,In the Pune game, Dube batted right till the end after having got hit on the helmet earlier, so clearly, he was not concussed. So, allowing a concussion substitute itself was not correct. Yes, there could have been a substitute in case he had strained a muscle while batting, but that would have been only for fielding and he could not have bowled.Even by the most generous stretching of the like for like term, there was nothing such between Dube and Rana. With tongue firmly in cheek, one can say that they are the same height and have the same standard in fielding. Otherwise, there's nothing like for like as far as they are concerned. England has every reason to feel done in. This Indian team is a superb team and doesn't need its wins to get tarnished by such acts.It is being said that the England coach Brendon McCullum was furious at the Indian team's choice of replacement. Seemingly, he was very angry in the England dressing room. Asked about it, an England team spokesman said they have moved on. He (McCullum) was fine. (He) spoke to the match referee at the end of the game. We move on.But with Dube included in the playing XI at the Wankhede, the issue is sure to attract more traction.\"\n",
    "\n",
    "Stext4=\"Sport is a form of physical activity or game. Often competitive and organized, sports use, maintain, or improve physical ability and skills. They also provide enjoyment to participants and, in some cases, entertainment to spectators.Many sports exist, with different participant numbers, some are done by a single person with others being done by hundreds. Most sports take place either in teams or competing as individuals. Some sports allow a tie or draw, in which there is no single winner; others provide tie-breaking methods to ensure one winner. A number of contests may be arranged in a tournament format, producing a champion. Many sports leagues make an annual champion by arranging games in a regular sports season, followed in some cases by playoffsSport is generally recognised as system of activities based in physical athleticism or physical dexterity, with major competitions admitting only sports meeting this definition.Some organisations, such as the Council of Europe, preclude activities without any physical element from classification as sports. However, a number of competitive, but non-physical, activities claim recognition as mind sports. The International Olympic Committee who oversee the Olympic Games recognises both chess and bridge as sports. SportAccord, the international sports federation association, recognises five non-physical sports: chess, bridge, draughts, Go and xiangqi.However, they limit the number of mind games which can be admitted as sports. Sport is usually governed by a set of rules or customs, which serve to ensure fair competition. Winning can be determined by physical events such as scoring goals or crossing a line first. It can also be determined by judges who are scoring elements of the sporting performance, including objective or subjective measures such as technical performance or artistic impression.Records of performance are often kept, and for popular sports, this information may be widely announced or reported in sport news. Sport is also a major source of entertainment for non-participants, with spectator sport drawing large crowds to sport venues, and reaching wider audiences through broadcasting. Sport betting is in some cases severely regulated, and in others integral to the sport.According to A.T. Kearney, a consultancy, the global sporting industry is worth up to $620 billion as of 2013.The world's most accessible and practised sport is running, while association football is the most popular spectator sport.\"\n",
    "\n",
    "Stext5=\"The Timeless Appeal of SportsFrom the ancient Olympics to the modern Super Bowl, sports have captivated humanity for millennia. They are more than just games; they are a cultural phenomenon that transcends borders and unites people in shared passion and excitement.The appeal of sports lies in their unique blend of competition, skill, and athleticism. Whether it's the grace of a gymnast, the power of a weightlifter, or the strategic brilliance of a chess grandmaster, sports showcase the incredible potential of the human body and mind. They inspire us to push our limits, to strive for excellence, and to celebrate the human spirit.Sports also provide a sense of community and belonging. Fans gather in stadiums, bars, and homes to cheer on their favorite teams and athletes, creating bonds that can last a lifetime. The shared experience of victory and defeat, the collective roar of the crowd, and the camaraderie among fellow fans create a unique and powerful sense of connection.Beyond the entertainment value, sports offer numerous physical and mental benefits. Regular physical activity improves cardiovascular health, strengthens muscles and bones, and reduces the risk of chronic diseases. Sports also teach valuable life lessons such as teamwork, discipline, perseverance, and sportsmanship.In conclusion, sports are a timeless and universal passion that enriches our lives in countless ways. They entertain, inspire, and unite us, while also promoting physical and mental well-being. Whether you're a fan, an athlete, or simply an observer, the world of sports has something to offer everyone.\""
   ]
  },
  {
   "cell_type": "markdown",
   "id": "78bf02ed-29fa-46e7-870c-a59b3994ddb6",
   "metadata": {},
   "source": [
    "#### Summarized Text (Using Chat-GPT)"
   ]
  },
  {
   "cell_type": "code",
   "execution_count": 47,
   "id": "433dc626-9b1f-4d21-ac44-15797538689c",
   "metadata": {},
   "outputs": [],
   "source": [
    "SStext1=\"Sports News Today provides real-time updates and in-depth coverage of cricket, hockey, and badminton, delivering key moments and player achievements. From thrilling cricket finishes to intense badminton rallies, it keeps fans connected to major events, including league championships and international series. A top highlight on January 30, 2025, is that Rohit Sharma will not travel to Pakistan for the ICC Champions Trophy 2025.\"\n",
    "\n",
    "SStext2=\"India secured a thrilling 9-wicket victory over South Africa in the ICC U-19 Women’s T20 World Cup final in Kuala Lumpur. Sanika Chalke hit the winning runs as teammates celebrated with the tricolor. G Trisha starred with 309 tournament runs, a match-winning 3-15 spell, and an unbeaten 44. Left-arm spinners Vaishnavi Sharma, Aayushi Shukla, and Parunika Sisodia dominated. Captain Niki Prasad continued her success after winning the U-19 Asia Cup in December.\"\n",
    "\n",
    "SStext3=\"India defeated South Africa by 9 wickets to win the ICC U-19 Women’s T20 World Cup final in Kuala Lumpur. Sanika Chalke hit the winning runs as teammates celebrated with the tricolor. G Trisha shone with 309 tournament runs, a 3-15 spell, and an unbeaten 44 in the final. Left-arm spinners Vaishnavi Sharma, Aayushi Shukla, and Parunika Sisodia dominated. Captain Niki Prasad continued her success after winning the U-19 Asia Cup in December.\"\n",
    "\n",
    "SStext4=\"Sport is a physical activity or game, often competitive and organized, aimed at improving skills and physical ability. It can be played individually or in teams, with some allowing ties and others using tie-breakers. Sports are governed by rules to ensure fair play, and winners are determined by scores or judges. While most sports require physical effort, mind sports like chess and bridge are recognized. The global sports industry was valued at $620 billion in 2013, with football as the most popular spectator sport.\"\n",
    "\n",
    "SStext5=\"Sports have captivated humanity for millennia, transcending borders and uniting people through competition, skill, and athleticism. They inspire excellence, foster community, and create lifelong bonds among fans. Beyond entertainment, sports promote physical and mental well-being, improving health and teaching values like teamwork and perseverance. From the ancient Olympics to modern championships, sports continue to enrich lives, offering something for everyone—whether as athletes, fans, or spectators.\""
   ]
  },
  {
   "cell_type": "markdown",
   "id": "d55ba4b4-7b26-441e-9eff-5ec20f15e044",
   "metadata": {},
   "source": [
    "#### Generating scores for all texts"
   ]
  },
  {
   "cell_type": "code",
   "execution_count": 48,
   "id": "0d4833a7-8629-42c4-a83a-7ec7a47ea66b",
   "metadata": {},
   "outputs": [],
   "source": [
    "SImatrix1=np.zeros((4,5))\n",
    "SImatrix2=np.zeros((4,5))\n",
    "SImatrix3=np.zeros((4,5))\n",
    "SImatrix4=np.zeros((4,5))\n",
    "SImatrix5=np.zeros((4,5))"
   ]
  },
  {
   "cell_type": "code",
   "execution_count": 49,
   "id": "3cfe9121-c872-4b32-9ecb-f834b697dcbd",
   "metadata": {},
   "outputs": [],
   "source": [
    "Stext=[(SImatrix1,SStext1,Stext1),(SImatrix2,SStext2,Stext2),(SImatrix3,SStext3,Stext3),(SImatrix4,SStext4,Stext4),(SImatrix5,SStext5,Stext5)]"
   ]
  },
  {
   "cell_type": "code",
   "execution_count": 50,
   "id": "6976944f-d6e3-4c88-9a12-ae92ad30e815",
   "metadata": {},
   "outputs": [
    {
     "name": "stderr",
     "output_type": "stream",
     "text": [
      "Device set to use cpu\n",
      "Device set to use cpu\n",
      "Device set to use cpu\n",
      "Device set to use cpu\n",
      "Device set to use cpu\n",
      "Device set to use cpu\n",
      "Device set to use cpu\n",
      "Device set to use cpu\n",
      "Device set to use cpu\n",
      "Device set to use cpu\n",
      "Device set to use cpu\n",
      "Device set to use cpu\n",
      "Device set to use cpu\n",
      "Device set to use cpu\n",
      "Device set to use cpu\n"
     ]
    }
   ],
   "source": [
    "for k,(matrix,reference,text) in enumerate(Stext):\n",
    "    for i, model in enumerate(models):\n",
    "        generated=model(text)\n",
    "        for j,metric in enumerate(parameters):\n",
    "            matrix[i,j]=metric(reference,generated)"
   ]
  },
  {
   "cell_type": "markdown",
   "id": "63373ca1-42aa-49bc-9197-4d5bdf05df00",
   "metadata": {},
   "source": [
    "#### Converting arrays into dataframes"
   ]
  },
  {
   "cell_type": "code",
   "execution_count": 51,
   "id": "1f64fc9b-6a87-4c03-b87d-9aca338c8ea3",
   "metadata": {},
   "outputs": [],
   "source": [
    "SIdf1=pd.DataFrame(SImatrix1,index=['bart-large-cnn','t5-tokenizer','distilbart-cnn','bart-large-cnn-samsum'])\n",
    "SIdf2=pd.DataFrame(SImatrix2,index=['bart-large-cnn','t5-tokenizer','distilbart-cnn','bart-large-cnn-samsum'])\n",
    "SIdf3=pd.DataFrame(SImatrix3,index=['bart-large-cnn','t5-tokenizer','distilbart-cnn','bart-large-cnn-samsum'])\n",
    "SIdf4=pd.DataFrame(SImatrix4,index=['bart-large-cnn','t5-tokenizer','distilbart-cnn','bart-large-cnn-samsum'])\n",
    "SIdf5=pd.DataFrame(SImatrix5,index=['bart-large-cnn','t5-tokenizer','distilbart-cnn','bart-large-cnn-samsum'])"
   ]
  },
  {
   "cell_type": "code",
   "execution_count": 52,
   "id": "b824d304-b46e-472d-8f2f-d819d29325a0",
   "metadata": {},
   "outputs": [],
   "source": [
    "SIdataframes=[SIdf1,SIdf2,SIdf3,SIdf4,SIdf5]"
   ]
  },
  {
   "cell_type": "code",
   "execution_count": 53,
   "id": "30d34ec6-777e-4a80-a309-6cd6e388eb17",
   "metadata": {},
   "outputs": [],
   "source": [
    "for i,df in enumerate(SIdataframes):\n",
    "    df.columns=['Meteor Score','Bleu Score','Rouge-1 Score','Gunning-Fog Index','Flesch-Kincaid']"
   ]
  },
  {
   "cell_type": "markdown",
   "id": "c1e1054b-34e8-46cd-a645-9fdb717ab177",
   "metadata": {},
   "source": [
    "#### Saving dataframes as csv (for our own topsis function)"
   ]
  },
  {
   "cell_type": "code",
   "execution_count": 54,
   "id": "b74d2e25-6bb4-412c-9f78-a31d6ecb8399",
   "metadata": {},
   "outputs": [],
   "source": [
    "SIdf1.to_csv('SIdf1.csv')\n",
    "SIdf2.to_csv('SIdf2.csv')\n",
    "SIdf3.to_csv('SIdf3.csv')\n",
    "SIdf4.to_csv('SIdf4.csv')\n",
    "SIdf5.to_csv('SIdf5.csv')"
   ]
  },
  {
   "cell_type": "markdown",
   "id": "4815566c-1cc5-4b40-874e-e62d3c60bddf",
   "metadata": {},
   "source": [
    "#### Applying Topsis"
   ]
  },
  {
   "cell_type": "code",
   "execution_count": 55,
   "id": "c0989f3e-ccae-49a6-a694-70ec1995783a",
   "metadata": {},
   "outputs": [],
   "source": [
    "import topsis_mohit_102397005 as top"
   ]
  },
  {
   "cell_type": "code",
   "execution_count": 56,
   "id": "e868130f-0038-40d7-b160-18e2a6778571",
   "metadata": {},
   "outputs": [],
   "source": [
    "SFiles=[('SIdf1.csv','SFdf1.csv'),('SIdf2.csv','SFdf2.csv'),('SIdf3.csv','SFdf3.csv'),('SIdf4.csv','SFdf4.csv'),('SIdf5.csv','SFdf5.csv')]"
   ]
  },
  {
   "cell_type": "code",
   "execution_count": 57,
   "id": "933e7c60-fcae-48ea-8804-6efbcec603ca",
   "metadata": {},
   "outputs": [
    {
     "name": "stdout",
     "output_type": "stream",
     "text": [
      "Results saved to 'SFdf1.csv'\n",
      "Results saved to 'SFdf2.csv'\n",
      "Results saved to 'SFdf3.csv'\n",
      "Results saved to 'SFdf4.csv'\n",
      "Results saved to 'SFdf5.csv'\n"
     ]
    }
   ],
   "source": [
    "for i,(input_file,output_file) in enumerate(SFiles):\n",
    "    top.run_topsis(input_file,weights,impacts,output_file)"
   ]
  },
  {
   "cell_type": "markdown",
   "id": "76dd4da3-13f4-49ef-9cdf-6db9892b22c4",
   "metadata": {},
   "source": [
    "#### Importing results as dataframe"
   ]
  },
  {
   "cell_type": "code",
   "execution_count": 58,
   "id": "652a1515-8a2a-4d88-8175-35e502ac5c9b",
   "metadata": {},
   "outputs": [],
   "source": [
    "SFdf1=pd.read_csv('SFdf1.csv')\n",
    "SFdf2=pd.read_csv('SFdf2.csv')\n",
    "SFdf3=pd.read_csv('SFdf3.csv')\n",
    "SFdf4=pd.read_csv('SFdf4.csv')\n",
    "SFdf5=pd.read_csv('SFdf5.csv')"
   ]
  },
  {
   "cell_type": "markdown",
   "id": "874b7ff1-5647-49cb-9eab-508841377997",
   "metadata": {},
   "source": [
    "#### Result"
   ]
  },
  {
   "cell_type": "code",
   "execution_count": 59,
   "id": "83b6b66b-612e-4341-90ad-8d6fbf06092e",
   "metadata": {},
   "outputs": [],
   "source": [
    "SResult=pd.concat([SFdf1,SFdf2,SFdf3,SFdf4,SFdf5])"
   ]
  },
  {
   "cell_type": "code",
   "execution_count": 60,
   "id": "e70358ca-8ad6-40da-a6b1-65aa056e4d91",
   "metadata": {},
   "outputs": [
    {
     "data": {
      "text/html": [
       "<div>\n",
       "<style scoped>\n",
       "    .dataframe tbody tr th:only-of-type {\n",
       "        vertical-align: middle;\n",
       "    }\n",
       "\n",
       "    .dataframe tbody tr th {\n",
       "        vertical-align: top;\n",
       "    }\n",
       "\n",
       "    .dataframe thead th {\n",
       "        text-align: right;\n",
       "    }\n",
       "</style>\n",
       "<table border=\"1\" class=\"dataframe\">\n",
       "  <thead>\n",
       "    <tr style=\"text-align: right;\">\n",
       "      <th></th>\n",
       "      <th>Unnamed: 0</th>\n",
       "      <th>Meteor Score</th>\n",
       "      <th>Bleu Score</th>\n",
       "      <th>Rouge-1 Score</th>\n",
       "      <th>Gunning-Fog Index</th>\n",
       "      <th>Flesch-Kincaid</th>\n",
       "      <th>TOPSIS Score</th>\n",
       "      <th>Rank</th>\n",
       "    </tr>\n",
       "  </thead>\n",
       "  <tbody>\n",
       "    <tr>\n",
       "      <th>0</th>\n",
       "      <td>bart-large-cnn</td>\n",
       "      <td>0.309986</td>\n",
       "      <td>10.506283</td>\n",
       "      <td>0.475248</td>\n",
       "      <td>11.40</td>\n",
       "      <td>11.9</td>\n",
       "      <td>0.414225</td>\n",
       "      <td>3.0</td>\n",
       "    </tr>\n",
       "    <tr>\n",
       "      <th>1</th>\n",
       "      <td>t5-tokenizer</td>\n",
       "      <td>0.236642</td>\n",
       "      <td>5.611869</td>\n",
       "      <td>0.268908</td>\n",
       "      <td>5.90</td>\n",
       "      <td>8.3</td>\n",
       "      <td>0.281866</td>\n",
       "      <td>4.0</td>\n",
       "    </tr>\n",
       "    <tr>\n",
       "      <th>2</th>\n",
       "      <td>distilbart-cnn</td>\n",
       "      <td>0.353433</td>\n",
       "      <td>14.067887</td>\n",
       "      <td>0.504854</td>\n",
       "      <td>11.51</td>\n",
       "      <td>12.3</td>\n",
       "      <td>0.571397</td>\n",
       "      <td>2.0</td>\n",
       "    </tr>\n",
       "    <tr>\n",
       "      <th>3</th>\n",
       "      <td>bart-large-cnn-samsum</td>\n",
       "      <td>0.427050</td>\n",
       "      <td>18.248119</td>\n",
       "      <td>0.588235</td>\n",
       "      <td>10.33</td>\n",
       "      <td>11.1</td>\n",
       "      <td>0.760236</td>\n",
       "      <td>1.0</td>\n",
       "    </tr>\n",
       "    <tr>\n",
       "      <th>0</th>\n",
       "      <td>bart-large-cnn</td>\n",
       "      <td>0.422585</td>\n",
       "      <td>21.254774</td>\n",
       "      <td>0.573643</td>\n",
       "      <td>9.68</td>\n",
       "      <td>8.2</td>\n",
       "      <td>0.787477</td>\n",
       "      <td>2.0</td>\n",
       "    </tr>\n",
       "    <tr>\n",
       "      <th>1</th>\n",
       "      <td>t5-tokenizer</td>\n",
       "      <td>0.166161</td>\n",
       "      <td>3.289800</td>\n",
       "      <td>0.316832</td>\n",
       "      <td>10.68</td>\n",
       "      <td>7.1</td>\n",
       "      <td>0.149055</td>\n",
       "      <td>4.0</td>\n",
       "    </tr>\n",
       "    <tr>\n",
       "      <th>2</th>\n",
       "      <td>distilbart-cnn</td>\n",
       "      <td>0.334426</td>\n",
       "      <td>18.597473</td>\n",
       "      <td>0.593750</td>\n",
       "      <td>6.89</td>\n",
       "      <td>4.4</td>\n",
       "      <td>0.698445</td>\n",
       "      <td>3.0</td>\n",
       "    </tr>\n",
       "    <tr>\n",
       "      <th>3</th>\n",
       "      <td>bart-large-cnn-samsum</td>\n",
       "      <td>0.403466</td>\n",
       "      <td>19.762470</td>\n",
       "      <td>0.616667</td>\n",
       "      <td>6.13</td>\n",
       "      <td>4.7</td>\n",
       "      <td>0.797820</td>\n",
       "      <td>1.0</td>\n",
       "    </tr>\n",
       "    <tr>\n",
       "      <th>0</th>\n",
       "      <td>bart-large-cnn</td>\n",
       "      <td>0.050891</td>\n",
       "      <td>0.333802</td>\n",
       "      <td>0.094340</td>\n",
       "      <td>11.31</td>\n",
       "      <td>7.6</td>\n",
       "      <td>0.321341</td>\n",
       "      <td>4.0</td>\n",
       "    </tr>\n",
       "    <tr>\n",
       "      <th>1</th>\n",
       "      <td>t5-tokenizer</td>\n",
       "      <td>0.062189</td>\n",
       "      <td>1.114454</td>\n",
       "      <td>0.051282</td>\n",
       "      <td>7.37</td>\n",
       "      <td>3.1</td>\n",
       "      <td>0.539278</td>\n",
       "      <td>2.0</td>\n",
       "    </tr>\n",
       "    <tr>\n",
       "      <th>2</th>\n",
       "      <td>distilbart-cnn</td>\n",
       "      <td>0.080946</td>\n",
       "      <td>0.658383</td>\n",
       "      <td>0.132231</td>\n",
       "      <td>14.09</td>\n",
       "      <td>8.9</td>\n",
       "      <td>0.586261</td>\n",
       "      <td>1.0</td>\n",
       "    </tr>\n",
       "    <tr>\n",
       "      <th>3</th>\n",
       "      <td>bart-large-cnn-samsum</td>\n",
       "      <td>0.068664</td>\n",
       "      <td>0.610592</td>\n",
       "      <td>0.101695</td>\n",
       "      <td>11.81</td>\n",
       "      <td>9.5</td>\n",
       "      <td>0.514743</td>\n",
       "      <td>3.0</td>\n",
       "    </tr>\n",
       "    <tr>\n",
       "      <th>0</th>\n",
       "      <td>bart-large-cnn</td>\n",
       "      <td>0.295131</td>\n",
       "      <td>6.774294</td>\n",
       "      <td>0.473282</td>\n",
       "      <td>14.17</td>\n",
       "      <td>10.1</td>\n",
       "      <td>0.818364</td>\n",
       "      <td>1.0</td>\n",
       "    </tr>\n",
       "    <tr>\n",
       "      <th>1</th>\n",
       "      <td>t5-tokenizer</td>\n",
       "      <td>0.135989</td>\n",
       "      <td>1.597928</td>\n",
       "      <td>0.205128</td>\n",
       "      <td>9.28</td>\n",
       "      <td>7.3</td>\n",
       "      <td>0.183410</td>\n",
       "      <td>3.0</td>\n",
       "    </tr>\n",
       "    <tr>\n",
       "      <th>2</th>\n",
       "      <td>distilbart-cnn</td>\n",
       "      <td>0.238796</td>\n",
       "      <td>5.154616</td>\n",
       "      <td>0.375000</td>\n",
       "      <td>14.26</td>\n",
       "      <td>11.0</td>\n",
       "      <td>0.627959</td>\n",
       "      <td>2.0</td>\n",
       "    </tr>\n",
       "    <tr>\n",
       "      <th>3</th>\n",
       "      <td>bart-large-cnn-samsum</td>\n",
       "      <td>0.131820</td>\n",
       "      <td>1.980429</td>\n",
       "      <td>0.266667</td>\n",
       "      <td>12.76</td>\n",
       "      <td>10.1</td>\n",
       "      <td>0.155333</td>\n",
       "      <td>4.0</td>\n",
       "    </tr>\n",
       "    <tr>\n",
       "      <th>0</th>\n",
       "      <td>bart-large-cnn</td>\n",
       "      <td>0.136897</td>\n",
       "      <td>7.924632</td>\n",
       "      <td>0.261682</td>\n",
       "      <td>13.32</td>\n",
       "      <td>10.8</td>\n",
       "      <td>0.617854</td>\n",
       "      <td>2.0</td>\n",
       "    </tr>\n",
       "    <tr>\n",
       "      <th>1</th>\n",
       "      <td>t5-tokenizer</td>\n",
       "      <td>0.047043</td>\n",
       "      <td>0.294456</td>\n",
       "      <td>0.113636</td>\n",
       "      <td>11.82</td>\n",
       "      <td>7.4</td>\n",
       "      <td>0.052304</td>\n",
       "      <td>4.0</td>\n",
       "    </tr>\n",
       "    <tr>\n",
       "      <th>2</th>\n",
       "      <td>distilbart-cnn</td>\n",
       "      <td>0.205138</td>\n",
       "      <td>11.478425</td>\n",
       "      <td>0.348624</td>\n",
       "      <td>10.36</td>\n",
       "      <td>7.6</td>\n",
       "      <td>0.898560</td>\n",
       "      <td>1.0</td>\n",
       "    </tr>\n",
       "    <tr>\n",
       "      <th>3</th>\n",
       "      <td>bart-large-cnn-samsum</td>\n",
       "      <td>0.138522</td>\n",
       "      <td>7.166926</td>\n",
       "      <td>0.320000</td>\n",
       "      <td>12.88</td>\n",
       "      <td>7.6</td>\n",
       "      <td>0.615087</td>\n",
       "      <td>3.0</td>\n",
       "    </tr>\n",
       "  </tbody>\n",
       "</table>\n",
       "</div>"
      ],
      "text/plain": [
       "              Unnamed: 0  Meteor Score  Bleu Score  Rouge-1 Score  \\\n",
       "0         bart-large-cnn      0.309986   10.506283       0.475248   \n",
       "1           t5-tokenizer      0.236642    5.611869       0.268908   \n",
       "2         distilbart-cnn      0.353433   14.067887       0.504854   \n",
       "3  bart-large-cnn-samsum      0.427050   18.248119       0.588235   \n",
       "0         bart-large-cnn      0.422585   21.254774       0.573643   \n",
       "1           t5-tokenizer      0.166161    3.289800       0.316832   \n",
       "2         distilbart-cnn      0.334426   18.597473       0.593750   \n",
       "3  bart-large-cnn-samsum      0.403466   19.762470       0.616667   \n",
       "0         bart-large-cnn      0.050891    0.333802       0.094340   \n",
       "1           t5-tokenizer      0.062189    1.114454       0.051282   \n",
       "2         distilbart-cnn      0.080946    0.658383       0.132231   \n",
       "3  bart-large-cnn-samsum      0.068664    0.610592       0.101695   \n",
       "0         bart-large-cnn      0.295131    6.774294       0.473282   \n",
       "1           t5-tokenizer      0.135989    1.597928       0.205128   \n",
       "2         distilbart-cnn      0.238796    5.154616       0.375000   \n",
       "3  bart-large-cnn-samsum      0.131820    1.980429       0.266667   \n",
       "0         bart-large-cnn      0.136897    7.924632       0.261682   \n",
       "1           t5-tokenizer      0.047043    0.294456       0.113636   \n",
       "2         distilbart-cnn      0.205138   11.478425       0.348624   \n",
       "3  bart-large-cnn-samsum      0.138522    7.166926       0.320000   \n",
       "\n",
       "   Gunning-Fog Index  Flesch-Kincaid  TOPSIS Score  Rank  \n",
       "0              11.40            11.9      0.414225   3.0  \n",
       "1               5.90             8.3      0.281866   4.0  \n",
       "2              11.51            12.3      0.571397   2.0  \n",
       "3              10.33            11.1      0.760236   1.0  \n",
       "0               9.68             8.2      0.787477   2.0  \n",
       "1              10.68             7.1      0.149055   4.0  \n",
       "2               6.89             4.4      0.698445   3.0  \n",
       "3               6.13             4.7      0.797820   1.0  \n",
       "0              11.31             7.6      0.321341   4.0  \n",
       "1               7.37             3.1      0.539278   2.0  \n",
       "2              14.09             8.9      0.586261   1.0  \n",
       "3              11.81             9.5      0.514743   3.0  \n",
       "0              14.17            10.1      0.818364   1.0  \n",
       "1               9.28             7.3      0.183410   3.0  \n",
       "2              14.26            11.0      0.627959   2.0  \n",
       "3              12.76            10.1      0.155333   4.0  \n",
       "0              13.32            10.8      0.617854   2.0  \n",
       "1              11.82             7.4      0.052304   4.0  \n",
       "2              10.36             7.6      0.898560   1.0  \n",
       "3              12.88             7.6      0.615087   3.0  "
      ]
     },
     "execution_count": 60,
     "metadata": {},
     "output_type": "execute_result"
    }
   ],
   "source": [
    "SResult"
   ]
  },
  {
   "cell_type": "markdown",
   "id": "33d8cc9f-4f4e-4738-9ffe-fcf299f4df79",
   "metadata": {},
   "source": [
    "### Technology"
   ]
  },
  {
   "cell_type": "markdown",
   "id": "b91e9a60-d42e-4fd1-b39b-56d3bceace7f",
   "metadata": {},
   "source": [
    "#### Getting Text"
   ]
  },
  {
   "cell_type": "code",
   "execution_count": 61,
   "id": "c73c0464-2ea7-492a-8238-06e6bd55489a",
   "metadata": {},
   "outputs": [],
   "source": [
    "Ttext1=\"Oppo has been busy teasing the upcoming Oppo Find N5, which will almost certainly be sold as the OnePlus Open 2 outside of China, and the latest rumor suggests the handset will have one particular camera upgrade – an upgrade that even top-tier flagships such as the Samsung Galaxy S25 Ultra don't offer.As per well-known tipster Smart Pikachu (via Android Authority), the Oppo Find N5 – and therefore the OnePlus Open 2 – is going to come with macro photography support on its telephoto lens, offering extra flexibility for close up shots.It means the ability to take close ups without actually having to get close to whatever you're shooting – that's the advantage of having macro support on the telephoto camera, rather than included with the standard primary camera.While the feature can be found on a few handsets, it's not something that Samsung, Google, or Apple have added to their phones – so you could get more photo flexibility from the OnePlus Open 2 than the Pixel 9 Pro or the iPhone 16.We've seen lots of unofficial leaks and official teases when it comes to this foldable phone. Some serious upgrades are apparently on the way, including a large 5,900 mAh battery, waterproofing, and a bump to the Snapdragon 8 Elite chipset from Qualcomm.This is apparently going to be the thinnest foldable to hit the market yet, and Oppo executives have posted pictures showing just how thin it will be – with one image comparing it to the M4-powered iPad Pro from Apple.What we're not sure of yet is exactly when the handset is going to launch, though it shouldn't be far off now. One rumor has pointed to the OnePlus Open 2 going on sale in the second half of 2025, though we're hoping to see it sooner.\"\n",
    "\n",
    "Ttext2=\"Rockstar Games’s next big gaming title, Grand Theft Auto VI or GTA 6, is set to be one of the biggest titles, which is evident from the response to its launch trailer. The trailer has already racked up more than 237 million views since its release in late 2023 and fans are eagerly awaiting to see a second teaser from the company or a confirmed release date.While Rockstar Games has remained tight-lipped since the release of the first trailer, recent reports have tipped the release date and other details of the game. In this article, we’ll cover everything to know about GTA 6, including the game’s expected release date, price, story and map details, and more.An online listing from a Spanish retailer, XUruguay, briefly listed GTA 6 with a September 17, 2025 release date before taking it down. This date is already memorable as it coincides with the 12th anniversary of GTA V’s launch. However, till now Rockstar has not officially confirmed this development.According to various reports, GTA 6 could make its global debut at around $100 (around Rs 8500) for the standard edition. Moreover, the premium edition of the game could cost even more, given its massive popularity and rising development costs. Rockstar has already confirmed that the GTA 6 will launch on PlayStation 5 and Xbox Series X/S, and a PC release could happen in 2027.As evident from the launch trailer of the game, it seems GTA 6 will follow a similar plot to that of previous iterations in which the lead characters will indulge in various illegal activities to earn money. As a result, the law will be after them, and users will get to play various missions. Within Leonida, Vice City could play a crucial part in the plot, which is a fictional city based in Miami, Florida These cities could be connected via bridges and highways.Moreover, it is expected that for the first time, a GTA game will feature a female character in a lead role named Lucia. Another rumoured character named Jason could be the second protagonist, and these characters will likely help in performing various missions across the whole length of the game.\"\n",
    "\n",
    "Ttext3=\"The news of the Pebble watch’s return came rather unexpectedly. The original Pebble was a smartwatch released back in 2013 as part of a highly successful crowdfunding campaign, with prices roughly starting at an affordable $100. The company Pebble was acquired by Fitbit, which in turn was bought by Google.One thing for certain is that new Pebble is supposedly in the works, but no detailed specs-related information has been revealed thus far, leaving consumers unsure what exactly to expect from Pebble’s comeback. CNET has now managed to obtain initial details about the device in an interview with Eric Migicovksy.The new Pebble watch will reportedly not have a touchscreen but instead will be operated using buttons, much like back in the day. This means the device definitely goes against what is considered standard for modern smartwatches, which typically use a touchscreen as their main input method. It is also said to feature a rectangular, rather than round, plastic body offered in two colourways: black and white. According to the article, the new watch will boast an impressive one-week battery life.The new Pebble isn’t expected to come with new types of sensors, even though quite a lot has improved since the launch of the original Pebble. For instance, many wearables now offer blood oxygen measurement on top of heart rate monitoring. Eric Migicovksy has yet to provide any pricing information and an exact release date.\"\n",
    "\n",
    "Ttext4=\"Technology is the application of conceptual knowledge to achieve practical goals, especially in a reproducible way.The word technology can also mean the products resulting from such efforts, including both tangible tools such as utensils or machines, and intangible ones such as software. Technology plays a critical role in science, engineering, and everyday life.Technological advancements have led to significant changes in society. The earliest known technology is the stone tool, used during prehistory, followed by the control of fire—which in turn contributed to the growth of the human brain and the development of language during the Ice Age, according to the cooking hypothesis. The invention of the wheel in the Bronze Age allowed greater travel and the creation of more complex machines. More recent technological inventions, including the printing press, telephone, and the Internet, have lowered barriers to communication and ushered in the knowledge economy.While technology contributes to economic development and improves human prosperity, it can also have negative impacts like pollution and resource depletion, and can cause social harms like technological unemployment resulting from automation. As a result, philosophical and political debates about the role and use of technology, the ethics of technology, and ways to mitigate its downsides are ongoing.\"\n",
    "\n",
    "Ttext5=\"The Ever-Evolving Landscape of Technology Technology has become an inseparable part of our lives, permeating every aspect of how we live, work, and interact. From the smartphones in our pockets to the complex algorithms that power the internet, technology's influence is undeniable and constantly evolving.This rapid advancement has brought about revolutionary changes.  Communication has been transformed, connecting people across continents in real-time.  Information is readily available at our fingertips, empowering us with knowledge and facilitating learning.  Industries have been revolutionized through automation and artificial intelligence, leading to increased efficiency and productivity.  Even healthcare has seen remarkable progress, with innovations in diagnostics, treatments, and medical devices.However, this technological boom also presents challenges. Concerns about data privacy, cybersecurity, and the ethical implications of artificial intelligence are becoming increasingly important.  The digital divide, the gap between those who have access to technology and those who don't, needs to be addressed to ensure equitable progress. Furthermore, the potential impact of automation on employment requires careful consideration and proactive solutions.Looking ahead, the future of technology promises even more transformative developments.  We can anticipate further advancements in artificial intelligence, virtual reality, and biotechnology, which could reshape our world in profound ways.  The key lies in harnessing the power of technology responsibly, ensuring that its benefits are shared by all while mitigating the potential risks.  By fostering innovation, promoting ethical practices, and addressing the societal implications, we can navigate the ever-evolving landscape of technology and create a future where it serves humanity's best interests.\""
   ]
  },
  {
   "cell_type": "markdown",
   "id": "53988d72-2976-4397-b3b7-c5d69e4459e1",
   "metadata": {},
   "source": [
    "#### Summarized Text (Using Chat-GPT)"
   ]
  },
  {
   "cell_type": "code",
   "execution_count": 62,
   "id": "0edfe2d9-9173-4aa6-bcc3-25f87899dd01",
   "metadata": {},
   "outputs": [],
   "source": [
    "TStext1=\"Oppo's upcoming Find N5, likely to be sold as OnePlus Open 2 outside China, will feature a unique macro photography upgrade on its telephoto lens, offering better close-up shots without getting too close. This feature, absent in top-tier phones like the Samsung Galaxy S25 Ultra, Pixel 9 Pro, and iPhone 16, is complemented by a large 5,900 mAh battery, waterproofing, and the Snapdragon 8 Elite chipset. The foldable is expected to be the thinnest on the market, with a possible release in the second half of 2025.\"\n",
    "\n",
    "TStext2=\"Grand Theft Auto VI (GTA 6) has generated immense excitement, with its first trailer amassing over 237 million views. Although Rockstar Games hasn't confirmed details, an online listing hinted at a September 17, 2025 release date, coinciding with GTA V's 12th anniversary. The game is expected to debut at around $100 for the standard edition and will launch on PlayStation 5 and Xbox Series X/S, with a PC release in 2027. The plot will feature illegal activities, missions, and potentially a female protagonist named Lucia. Vice City, based on Miami, could play a key role.\"\n",
    "\n",
    "TStext3=\"The return of the Pebble watch, originally launched in 2013, has surprised many. Acquired by Fitbit, which was later bought by Google, the new Pebble will reportedly forgo a touchscreen, instead using buttons like the original. It will feature a rectangular plastic body in black and white and offer a one-week battery life. While no new sensors like blood oxygen measurement are expected, the pricing and release date remain unclear.\"\n",
    "\n",
    "TStext4=\"Technology refers to the application of knowledge to achieve practical goals, resulting in both tangible tools like machines and intangible ones like software. It has greatly impacted science, engineering, and daily life, from early inventions like stone tools and the wheel to more recent ones like the printing press and the Internet. While technology drives economic growth and prosperity, it also presents challenges such as pollution, resource depletion, and technological unemployment, sparking ongoing debates on its ethical use and societal consequences.\"\n",
    "\n",
    "TStext5=\"Technology has become integral to our lives, transforming how we live, work, and communicate. It has revolutionized industries, healthcare, and learning through innovations like AI and automation. However, challenges such as data privacy, cybersecurity, the digital divide, and the impact of automation on jobs must be addressed. The future holds even greater advancements in AI, virtual reality, and biotechnology. Responsible use of technology, innovation, and ethical practices are crucial to ensuring its benefits are shared equitably while mitigating risks for society.\""
   ]
  },
  {
   "cell_type": "markdown",
   "id": "7a16da48-0208-4589-bea4-717bd7878771",
   "metadata": {},
   "source": [
    "#### Generating scores for all texts"
   ]
  },
  {
   "cell_type": "code",
   "execution_count": 63,
   "id": "69240ed3-be7c-446a-867c-b424a46e68ec",
   "metadata": {},
   "outputs": [],
   "source": [
    "TImatrix1=np.zeros((4,5))\n",
    "TImatrix2=np.zeros((4,5))\n",
    "TImatrix3=np.zeros((4,5))\n",
    "TImatrix4=np.zeros((4,5))\n",
    "TImatrix5=np.zeros((4,5))"
   ]
  },
  {
   "cell_type": "code",
   "execution_count": 64,
   "id": "26c2ffa2-af43-46eb-92fe-70fab53281c6",
   "metadata": {},
   "outputs": [],
   "source": [
    "Ttext=[(TImatrix1,TStext1,Ttext1),(TImatrix2,TStext2,Ttext2),(TImatrix3,TStext3,Ttext3),(TImatrix4,TStext4,Ttext4),(TImatrix5,TStext5,Ttext5)]"
   ]
  },
  {
   "cell_type": "code",
   "execution_count": 65,
   "id": "7fab1fa9-bd5b-4c15-be80-d661248be49a",
   "metadata": {},
   "outputs": [
    {
     "name": "stderr",
     "output_type": "stream",
     "text": [
      "Device set to use cpu\n",
      "Device set to use cpu\n",
      "Device set to use cpu\n",
      "Device set to use cpu\n",
      "Device set to use cpu\n",
      "Device set to use cpu\n",
      "Device set to use cpu\n",
      "Device set to use cpu\n",
      "Device set to use cpu\n",
      "Device set to use cpu\n",
      "Device set to use cpu\n",
      "Device set to use cpu\n",
      "Device set to use cpu\n",
      "Device set to use cpu\n",
      "Device set to use cpu\n"
     ]
    }
   ],
   "source": [
    "for k,(matrix,reference,text) in enumerate(Ttext):\n",
    "    for i, model in enumerate(models):\n",
    "        generated=model(text)\n",
    "        for j,metric in enumerate(parameters):\n",
    "            matrix[i,j]=metric(reference,generated)"
   ]
  },
  {
   "cell_type": "markdown",
   "id": "1cc76b48-c231-464d-81a3-f7a67af748ed",
   "metadata": {},
   "source": [
    "#### Converting arrays into dataframes"
   ]
  },
  {
   "cell_type": "code",
   "execution_count": 66,
   "id": "4350e4e9-ac02-46bf-bb75-2496eb3b2ebf",
   "metadata": {},
   "outputs": [],
   "source": [
    "TIdf1=pd.DataFrame(TImatrix1,index=['bart-large-cnn','t5-tokenizer','distilbart-cnn','bart-large-cnn-samsum'])\n",
    "TIdf2=pd.DataFrame(TImatrix2,index=['bart-large-cnn','t5-tokenizer','distilbart-cnn','bart-large-cnn-samsum'])\n",
    "TIdf3=pd.DataFrame(TImatrix3,index=['bart-large-cnn','t5-tokenizer','distilbart-cnn','bart-large-cnn-samsum'])\n",
    "TIdf4=pd.DataFrame(TImatrix4,index=['bart-large-cnn','t5-tokenizer','distilbart-cnn','bart-large-cnn-samsum'])\n",
    "TIdf5=pd.DataFrame(TImatrix5,index=['bart-large-cnn','t5-tokenizer','distilbart-cnn','bart-large-cnn-samsum'])"
   ]
  },
  {
   "cell_type": "code",
   "execution_count": 67,
   "id": "8f2d323b-f13e-4b4a-945c-fe85ac50ea25",
   "metadata": {},
   "outputs": [],
   "source": [
    "TIdataframes=[TIdf1,TIdf2,TIdf3,TIdf4,TIdf5]"
   ]
  },
  {
   "cell_type": "code",
   "execution_count": 68,
   "id": "2c029570-fb15-4ca1-84f9-fd9e572fed11",
   "metadata": {},
   "outputs": [],
   "source": [
    "for i,df in enumerate(TIdataframes):\n",
    "    df.columns=['Meteor Score','Bleu Score','Rouge-1 Score','Gunning-Fog Index','Flesch-Kincaid']"
   ]
  },
  {
   "cell_type": "markdown",
   "id": "56d5922d-6d01-42ca-b28a-fb3a30bef324",
   "metadata": {},
   "source": [
    "#### Saving dataframes as csv (for our own topsis function)"
   ]
  },
  {
   "cell_type": "code",
   "execution_count": 69,
   "id": "122ea016-4f7a-4927-9a8d-fdfd6842af1f",
   "metadata": {},
   "outputs": [],
   "source": [
    "TIdf1.to_csv('TIdf1.csv')\n",
    "TIdf2.to_csv('TIdf2.csv')\n",
    "TIdf3.to_csv('TIdf3.csv')\n",
    "TIdf4.to_csv('TIdf4.csv')\n",
    "TIdf5.to_csv('TIdf5.csv')"
   ]
  },
  {
   "cell_type": "markdown",
   "id": "1e7167fd-21b6-4f34-a37c-16b9a799e714",
   "metadata": {},
   "source": [
    "#### Applying Topsis"
   ]
  },
  {
   "cell_type": "code",
   "execution_count": 70,
   "id": "6f2b84f4-f690-4316-aeda-dbb41e893a6f",
   "metadata": {},
   "outputs": [],
   "source": [
    "import topsis_mohit_102397005 as top"
   ]
  },
  {
   "cell_type": "code",
   "execution_count": 71,
   "id": "08d26568-6521-4a81-a89a-39b082e8ce7e",
   "metadata": {},
   "outputs": [],
   "source": [
    "TFiles=[('TIdf1.csv','TFdf1.csv'),('TIdf2.csv','TFdf2.csv'),('TIdf3.csv','TFdf3.csv'),('TIdf4.csv','TFdf4.csv'),('TIdf5.csv','TFdf5.csv')]"
   ]
  },
  {
   "cell_type": "code",
   "execution_count": 72,
   "id": "e3689171-758a-489a-abaf-37528d1b500b",
   "metadata": {},
   "outputs": [
    {
     "name": "stdout",
     "output_type": "stream",
     "text": [
      "Results saved to 'TFdf1.csv'\n",
      "Results saved to 'TFdf2.csv'\n",
      "Results saved to 'TFdf3.csv'\n",
      "Results saved to 'TFdf4.csv'\n",
      "Results saved to 'TFdf5.csv'\n"
     ]
    }
   ],
   "source": [
    "for i,(input_file,output_file) in enumerate(TFiles):\n",
    "    top.run_topsis(input_file,weights,impacts,output_file)"
   ]
  },
  {
   "cell_type": "markdown",
   "id": "170db3ed-81c1-458e-824f-8605707ddcb2",
   "metadata": {},
   "source": [
    "#### Importing results as dataframe"
   ]
  },
  {
   "cell_type": "code",
   "execution_count": 73,
   "id": "a7abd60b-f7d0-4c7c-880e-e4cc1888dddd",
   "metadata": {},
   "outputs": [],
   "source": [
    "TFdf1=pd.read_csv('TFdf1.csv')\n",
    "TFdf2=pd.read_csv('TFdf2.csv')\n",
    "TFdf3=pd.read_csv('TFdf3.csv')\n",
    "TFdf4=pd.read_csv('TFdf4.csv')\n",
    "TFdf5=pd.read_csv('TFdf5.csv')"
   ]
  },
  {
   "cell_type": "markdown",
   "id": "f8f8b541-e6e0-48fd-aab2-9b220639b7b1",
   "metadata": {},
   "source": [
    "#### Result"
   ]
  },
  {
   "cell_type": "code",
   "execution_count": 74,
   "id": "9a7de516-79c3-4e7f-81ef-9c766dad7bcc",
   "metadata": {},
   "outputs": [],
   "source": [
    "TResult=pd.concat([TFdf1,TFdf2,TFdf3,TFdf4,TFdf5])"
   ]
  },
  {
   "cell_type": "code",
   "execution_count": 75,
   "id": "e2a2361f-c3d3-4f27-9c5d-abcaed9e9e61",
   "metadata": {},
   "outputs": [
    {
     "data": {
      "text/html": [
       "<div>\n",
       "<style scoped>\n",
       "    .dataframe tbody tr th:only-of-type {\n",
       "        vertical-align: middle;\n",
       "    }\n",
       "\n",
       "    .dataframe tbody tr th {\n",
       "        vertical-align: top;\n",
       "    }\n",
       "\n",
       "    .dataframe thead th {\n",
       "        text-align: right;\n",
       "    }\n",
       "</style>\n",
       "<table border=\"1\" class=\"dataframe\">\n",
       "  <thead>\n",
       "    <tr style=\"text-align: right;\">\n",
       "      <th></th>\n",
       "      <th>Unnamed: 0</th>\n",
       "      <th>Meteor Score</th>\n",
       "      <th>Bleu Score</th>\n",
       "      <th>Rouge-1 Score</th>\n",
       "      <th>Gunning-Fog Index</th>\n",
       "      <th>Flesch-Kincaid</th>\n",
       "      <th>TOPSIS Score</th>\n",
       "      <th>Rank</th>\n",
       "    </tr>\n",
       "  </thead>\n",
       "  <tbody>\n",
       "    <tr>\n",
       "      <th>0</th>\n",
       "      <td>bart-large-cnn</td>\n",
       "      <td>0.199273</td>\n",
       "      <td>3.556854</td>\n",
       "      <td>0.318841</td>\n",
       "      <td>9.56</td>\n",
       "      <td>6.8</td>\n",
       "      <td>0.149160</td>\n",
       "      <td>4.0</td>\n",
       "    </tr>\n",
       "    <tr>\n",
       "      <th>1</th>\n",
       "      <td>t5-tokenizer</td>\n",
       "      <td>0.186449</td>\n",
       "      <td>4.986463</td>\n",
       "      <td>0.272727</td>\n",
       "      <td>9.38</td>\n",
       "      <td>7.5</td>\n",
       "      <td>0.201449</td>\n",
       "      <td>3.0</td>\n",
       "    </tr>\n",
       "    <tr>\n",
       "      <th>2</th>\n",
       "      <td>distilbart-cnn</td>\n",
       "      <td>0.324383</td>\n",
       "      <td>9.737795</td>\n",
       "      <td>0.445946</td>\n",
       "      <td>10.34</td>\n",
       "      <td>8.2</td>\n",
       "      <td>0.770067</td>\n",
       "      <td>2.0</td>\n",
       "    </tr>\n",
       "    <tr>\n",
       "      <th>3</th>\n",
       "      <td>bart-large-cnn-samsum</td>\n",
       "      <td>0.372504</td>\n",
       "      <td>9.541450</td>\n",
       "      <td>0.515152</td>\n",
       "      <td>8.41</td>\n",
       "      <td>5.1</td>\n",
       "      <td>0.819899</td>\n",
       "      <td>1.0</td>\n",
       "    </tr>\n",
       "    <tr>\n",
       "      <th>0</th>\n",
       "      <td>bart-large-cnn</td>\n",
       "      <td>0.260700</td>\n",
       "      <td>11.050184</td>\n",
       "      <td>0.412121</td>\n",
       "      <td>9.41</td>\n",
       "      <td>8.3</td>\n",
       "      <td>0.741195</td>\n",
       "      <td>1.0</td>\n",
       "    </tr>\n",
       "    <tr>\n",
       "      <th>1</th>\n",
       "      <td>t5-tokenizer</td>\n",
       "      <td>0.245106</td>\n",
       "      <td>8.937777</td>\n",
       "      <td>0.402778</td>\n",
       "      <td>8.61</td>\n",
       "      <td>7.8</td>\n",
       "      <td>0.374791</td>\n",
       "      <td>3.0</td>\n",
       "    </tr>\n",
       "    <tr>\n",
       "      <th>2</th>\n",
       "      <td>distilbart-cnn</td>\n",
       "      <td>0.263218</td>\n",
       "      <td>7.662261</td>\n",
       "      <td>0.374194</td>\n",
       "      <td>8.91</td>\n",
       "      <td>8.2</td>\n",
       "      <td>0.222058</td>\n",
       "      <td>4.0</td>\n",
       "    </tr>\n",
       "    <tr>\n",
       "      <th>3</th>\n",
       "      <td>bart-large-cnn-samsum</td>\n",
       "      <td>0.276307</td>\n",
       "      <td>9.421250</td>\n",
       "      <td>0.422360</td>\n",
       "      <td>8.93</td>\n",
       "      <td>9.0</td>\n",
       "      <td>0.623859</td>\n",
       "      <td>2.0</td>\n",
       "    </tr>\n",
       "    <tr>\n",
       "      <th>0</th>\n",
       "      <td>bart-large-cnn</td>\n",
       "      <td>0.276517</td>\n",
       "      <td>4.722298</td>\n",
       "      <td>0.382609</td>\n",
       "      <td>8.04</td>\n",
       "      <td>6.4</td>\n",
       "      <td>0.377811</td>\n",
       "      <td>3.0</td>\n",
       "    </tr>\n",
       "    <tr>\n",
       "      <th>1</th>\n",
       "      <td>t5-tokenizer</td>\n",
       "      <td>0.188816</td>\n",
       "      <td>2.603267</td>\n",
       "      <td>0.339623</td>\n",
       "      <td>6.96</td>\n",
       "      <td>5.3</td>\n",
       "      <td>0.184273</td>\n",
       "      <td>4.0</td>\n",
       "    </tr>\n",
       "    <tr>\n",
       "      <th>2</th>\n",
       "      <td>distilbart-cnn</td>\n",
       "      <td>0.390874</td>\n",
       "      <td>8.817063</td>\n",
       "      <td>0.548148</td>\n",
       "      <td>9.53</td>\n",
       "      <td>8.4</td>\n",
       "      <td>0.815727</td>\n",
       "      <td>1.0</td>\n",
       "    </tr>\n",
       "    <tr>\n",
       "      <th>3</th>\n",
       "      <td>bart-large-cnn-samsum</td>\n",
       "      <td>0.339106</td>\n",
       "      <td>8.723413</td>\n",
       "      <td>0.500000</td>\n",
       "      <td>8.16</td>\n",
       "      <td>6.9</td>\n",
       "      <td>0.786701</td>\n",
       "      <td>2.0</td>\n",
       "    </tr>\n",
       "    <tr>\n",
       "      <th>0</th>\n",
       "      <td>bart-large-cnn</td>\n",
       "      <td>0.213962</td>\n",
       "      <td>6.269622</td>\n",
       "      <td>0.382609</td>\n",
       "      <td>12.76</td>\n",
       "      <td>11.2</td>\n",
       "      <td>0.332360</td>\n",
       "      <td>3.0</td>\n",
       "    </tr>\n",
       "    <tr>\n",
       "      <th>1</th>\n",
       "      <td>t5-tokenizer</td>\n",
       "      <td>0.197389</td>\n",
       "      <td>4.812779</td>\n",
       "      <td>0.344371</td>\n",
       "      <td>12.71</td>\n",
       "      <td>10.1</td>\n",
       "      <td>0.193254</td>\n",
       "      <td>4.0</td>\n",
       "    </tr>\n",
       "    <tr>\n",
       "      <th>2</th>\n",
       "      <td>distilbart-cnn</td>\n",
       "      <td>0.258962</td>\n",
       "      <td>10.621010</td>\n",
       "      <td>0.406250</td>\n",
       "      <td>15.64</td>\n",
       "      <td>13.0</td>\n",
       "      <td>0.806214</td>\n",
       "      <td>1.0</td>\n",
       "    </tr>\n",
       "    <tr>\n",
       "      <th>3</th>\n",
       "      <td>bart-large-cnn-samsum</td>\n",
       "      <td>0.230720</td>\n",
       "      <td>6.194225</td>\n",
       "      <td>0.388489</td>\n",
       "      <td>12.70</td>\n",
       "      <td>10.1</td>\n",
       "      <td>0.359992</td>\n",
       "      <td>2.0</td>\n",
       "    </tr>\n",
       "    <tr>\n",
       "      <th>0</th>\n",
       "      <td>bart-large-cnn</td>\n",
       "      <td>0.306693</td>\n",
       "      <td>11.897926</td>\n",
       "      <td>0.440945</td>\n",
       "      <td>17.42</td>\n",
       "      <td>15.2</td>\n",
       "      <td>0.804081</td>\n",
       "      <td>1.0</td>\n",
       "    </tr>\n",
       "    <tr>\n",
       "      <th>1</th>\n",
       "      <td>t5-tokenizer</td>\n",
       "      <td>0.167642</td>\n",
       "      <td>2.273621</td>\n",
       "      <td>0.276423</td>\n",
       "      <td>12.06</td>\n",
       "      <td>11.2</td>\n",
       "      <td>0.205876</td>\n",
       "      <td>4.0</td>\n",
       "    </tr>\n",
       "    <tr>\n",
       "      <th>2</th>\n",
       "      <td>distilbart-cnn</td>\n",
       "      <td>0.258711</td>\n",
       "      <td>10.589016</td>\n",
       "      <td>0.370968</td>\n",
       "      <td>17.81</td>\n",
       "      <td>15.9</td>\n",
       "      <td>0.684793</td>\n",
       "      <td>2.0</td>\n",
       "    </tr>\n",
       "    <tr>\n",
       "      <th>3</th>\n",
       "      <td>bart-large-cnn-samsum</td>\n",
       "      <td>0.259262</td>\n",
       "      <td>9.071449</td>\n",
       "      <td>0.390244</td>\n",
       "      <td>17.03</td>\n",
       "      <td>14.7</td>\n",
       "      <td>0.645121</td>\n",
       "      <td>3.0</td>\n",
       "    </tr>\n",
       "  </tbody>\n",
       "</table>\n",
       "</div>"
      ],
      "text/plain": [
       "              Unnamed: 0  Meteor Score  Bleu Score  Rouge-1 Score  \\\n",
       "0         bart-large-cnn      0.199273    3.556854       0.318841   \n",
       "1           t5-tokenizer      0.186449    4.986463       0.272727   \n",
       "2         distilbart-cnn      0.324383    9.737795       0.445946   \n",
       "3  bart-large-cnn-samsum      0.372504    9.541450       0.515152   \n",
       "0         bart-large-cnn      0.260700   11.050184       0.412121   \n",
       "1           t5-tokenizer      0.245106    8.937777       0.402778   \n",
       "2         distilbart-cnn      0.263218    7.662261       0.374194   \n",
       "3  bart-large-cnn-samsum      0.276307    9.421250       0.422360   \n",
       "0         bart-large-cnn      0.276517    4.722298       0.382609   \n",
       "1           t5-tokenizer      0.188816    2.603267       0.339623   \n",
       "2         distilbart-cnn      0.390874    8.817063       0.548148   \n",
       "3  bart-large-cnn-samsum      0.339106    8.723413       0.500000   \n",
       "0         bart-large-cnn      0.213962    6.269622       0.382609   \n",
       "1           t5-tokenizer      0.197389    4.812779       0.344371   \n",
       "2         distilbart-cnn      0.258962   10.621010       0.406250   \n",
       "3  bart-large-cnn-samsum      0.230720    6.194225       0.388489   \n",
       "0         bart-large-cnn      0.306693   11.897926       0.440945   \n",
       "1           t5-tokenizer      0.167642    2.273621       0.276423   \n",
       "2         distilbart-cnn      0.258711   10.589016       0.370968   \n",
       "3  bart-large-cnn-samsum      0.259262    9.071449       0.390244   \n",
       "\n",
       "   Gunning-Fog Index  Flesch-Kincaid  TOPSIS Score  Rank  \n",
       "0               9.56             6.8      0.149160   4.0  \n",
       "1               9.38             7.5      0.201449   3.0  \n",
       "2              10.34             8.2      0.770067   2.0  \n",
       "3               8.41             5.1      0.819899   1.0  \n",
       "0               9.41             8.3      0.741195   1.0  \n",
       "1               8.61             7.8      0.374791   3.0  \n",
       "2               8.91             8.2      0.222058   4.0  \n",
       "3               8.93             9.0      0.623859   2.0  \n",
       "0               8.04             6.4      0.377811   3.0  \n",
       "1               6.96             5.3      0.184273   4.0  \n",
       "2               9.53             8.4      0.815727   1.0  \n",
       "3               8.16             6.9      0.786701   2.0  \n",
       "0              12.76            11.2      0.332360   3.0  \n",
       "1              12.71            10.1      0.193254   4.0  \n",
       "2              15.64            13.0      0.806214   1.0  \n",
       "3              12.70            10.1      0.359992   2.0  \n",
       "0              17.42            15.2      0.804081   1.0  \n",
       "1              12.06            11.2      0.205876   4.0  \n",
       "2              17.81            15.9      0.684793   2.0  \n",
       "3              17.03            14.7      0.645121   3.0  "
      ]
     },
     "execution_count": 75,
     "metadata": {},
     "output_type": "execute_result"
    }
   ],
   "source": [
    "TResult"
   ]
  },
  {
   "cell_type": "markdown",
   "id": "902fdf7a-74be-45ce-8ac6-6a7df1a0c0fc",
   "metadata": {},
   "source": [
    "### Finance"
   ]
  },
  {
   "cell_type": "markdown",
   "id": "38d682e0-ed2f-4a7b-8657-4e551ed68330",
   "metadata": {},
   "source": [
    "#### Getting Text"
   ]
  },
  {
   "cell_type": "code",
   "execution_count": 76,
   "id": "99733103-8442-40fa-b266-151fb6bfedcf",
   "metadata": {},
   "outputs": [],
   "source": [
    "Ftext1=\"Gold prices experienced a modest increase on Sunday. The cost of 24 carat gold in India is Rs.8466.3 per gram, reflecting an increase of ₹ 150.0. The cost of 22 carat gold in India is 7762.3 per gram, a rise of ₹140.0.The price fluctuation of 24 carat gold over the past week is recorded at -0.75%, while over the last month, the change stands at -4.59%.The current price of silver in India is 102600.0 per kg, reflecting an decrease of 100.0 per kg.Gold Rates and Silver Prices in South CitiesTop 5 South Cities for Gold Rates in IndiaGold Rate in ChennaiChennai: Gold Rate Today in Chennai is ₹84511.0/10 grams. Yesterday’s gold rate on 01-02-2025 was 83051.0/10 grams, and last week’s gold price on 27-01-2025 was ₹82431.0/10 grams.Gold Rate in Bangalore Bangalore: Gold Rate Today in Bangalore is ₹84505.0/10 grams. Yesterday’s gold rate on 01-02-2025 was 83045.0/10 grams, and last week’s gold price on 27-01-2025 was ₹82425.0/10 grams.Hyderabad: Gold Rate Today in Hyderabad is ₹84519.0/10 grams. Yesterday’s gold rate on 01-02-2025 was 83059.0/10 grams, and last week’s gold price on 27-01-2025 was ₹82439.0/10 grams.Visakhapatnam: Gold Rate Today in Visakhapatnam is ₹84527.0/10 grams. Yesterday’s gold rate on 01-02-2025 was 83067.0/10 grams, and last week’s gold price on 27-01-2025 was ₹82447.0/10 grams.Vijayawada: Gold Rate Today in Vijayawada is ₹84525.0/10 grams. Yesterday’s gold rate on 01-02-2025 was 83065.0/10 grams, and last week’s gold price on 27-01-2025 was ₹82445.0/10 grams.\"\n",
    "\n",
    "Ftext2=\"Cryptocurrency traders in India may face significant tax penalties on previously undisclosed profits under new amendments to the country’s tax laws.Cryptocurrencies will be included under Section 158B of the Income Tax Act, which reports undisclosed income, according to Indian Finance Minister Nirmala Sitharaman’s Union Budget 2025 announcement.The amendment allows cryptocurrency gains to be subject to block assessments if not reported, placing them under the same tax treatment as traditional assets like money, jewelry and bullion.Crypto will fall under the definition of Virtual Digital Assets (VDAs), according to the new amendment, which states:Crypto asset has been defined in section 2(47A) of the Act under the existing definition of Virtual Digital Asset A reporting entity, as may be prescribed under section 285BAA of the Act, will be required to furnish information of crypto asset.The new crypto tax proposition will be retrospectively applicable from Feb. 1, 2025.At the end of December 2024, India’s Minister of State for Finance, Pankaj Chaudhary, said the government had found 824 crore Indian rupees ($97 million) in unpaid goods and service taxes (GST) by several crypto exchanges.The report came a few months after Indian law enforcement agencies demanded 722 crore Indian rupees ($85 million) in unpaid taxes from Binance in August.Crypto traders face up to 70% tax penalty on undisclosed crypto gainsAs a sign of concern for cryptocurrency holders, Indian authorities may issue a tax penalty of up to 70% on previously undisclosed crypto profits.\"\n",
    "\n",
    "Ftext3=\"Mumbai: In a major relief for senior citizens struggling with rising healthcare costs, the Insurance Regulatory and Development Authority of India (Irdai) has stepped in to curb steep health insurance premium hikes. Insurers can no longer raise premiums for policyholders aged 60 and above by more than 10% per year without prior approval, which will ensure accessibility of health insurance to those who are the most vulnerable to medical inflation.The regulator has restricted all health and general insurers who offer indemnity-based health insurance from hiking health insurance premiums charged to senior citizens by more than 10% in one year, according to a circular dated January 30, 2025, Some policyholders had raised concerns over rates doubling within a year.As part of the ongoing monitoring of insurance products offered in the Indian insurance market, it is observed that there has been a steep increase in premium rates under some of the health insurance products offered to senior citizens (aged 60 years and above), Irdai said. In this context, the most vulnerable age group is the senior citizens having limited sources of income, and this group is impacted the most when there is a steep increase in health insurance premium. This matter has been engaging the attention of Irdai and is a regulatory concern.Premium rates in the health insurance segment are driven by soaring hospital bills and medical inflation. Insurers set their rates based on the anticipated claim payouts, along with the expenses of acquiring and servicing policies. The claims outgo is dependent largely on the amounts charged by the hospitals for various treatments and surgeries, dictating the financial burden on the insurers and the policyholders.\"\n",
    "\n",
    "Ftext4=\"Finance refers to monetary resources and to the study and discipline of money, currency, assets and liabilities.As a subject of study, it is related to but distinct from economics, which is the study of the production, distribution, and consumption of goods and services.Based on the scope of financial activities in financial systems, the discipline can be divided into personal, corporate, and public finance.In these financial systems, assets are bought, sold, or traded as financial instruments, such as currencies, loans, bonds, shares, stocks, options, futures, etc. Assets can also be banked, invested, and insured to maximize value and minimize loss. In practice, risks are always present in any financial action and entities.Due to its wide scope, a broad range of subfields exists within finance. Asset-, money-, risk- and investment management aim to maximize value and minimize volatility. Financial analysis assesses the viability, stability, and profitability of an action or entity. Some fields are multidisciplinary, such as mathematical finance, financial law, financial economics, financial engineering and financial technology. These fields are the foundation of business and accounting. In some cases, theories in finance can be tested using the scientific method, covered by experimental finance.The early history of finance parallels the early history of money, which is prehistoric. Ancient and medieval civilizations incorporated basic functions of finance, such as banking, trading and accounting, into their economies. In the late 19th century, the global financial system was formed.In the middle of the 20th century, finance emerged as a distinct academic discipline,[c] separate from economics. The earliest doctoral programs in finance were established in the 1960s and 1970s. Today, finance is also widely studied through career-focused undergraduate and master's level programs.\"\n",
    "\n",
    "Ftext5=\"Navigating the World of Finance Finance, in its broadest sense, encompasses the management of money and investments.  It's a complex and dynamic field that affects individuals, businesses, and governments alike.  Understanding basic financial principles is crucial for making informed decisions about our financial well-being.For individuals, personal finance involves budgeting, saving, investing, and managing debt. Creating a budget allows you to track your income and expenses, identify areas where you can save, and set financial goals.  Investing, whether in stocks, bonds, real estate, or other assets, is essential for growing your wealth over the long term.  Managing debt responsibly, including understanding interest rates and avoiding excessive borrowing, is crucial for maintaining financial stability.Businesses also rely heavily on finance.  Corporate finance deals with decisions related to raising capital, investing in projects, and managing cash flow.  Financial planning and analysis play a vital role in helping businesses make informed decisions that maximize shareholder value.  Understanding financial statements, such as balance sheets and income statements, is essential for assessing a company's financial health.At a larger scale, public finance focuses on the role of government in the economy.  Governments raise revenue through taxation and other means, and they allocate these funds to various public services, such as education, healthcare, and infrastructure.  Fiscal policy, which involves government spending and taxation, plays a significant role in influencing economic activity.The world of finance is constantly evolving, with new financial products and technologies emerging regularly.  Staying informed about current trends and developments is essential for navigating this complex landscape.  Whether you're managing your personal finances, running a business, or simply interested in understanding how the economy works, a basic understanding of finance is an invaluable tool.  It empowers us to make informed decisions, achieve our financial goals, and contribute to a more prosperous future.\""
   ]
  },
  {
   "cell_type": "markdown",
   "id": "4bd3ecf3-ee33-4b14-986e-1b34093ed64b",
   "metadata": {},
   "source": [
    "#### Summarized Text (Using Chat-GPT)"
   ]
  },
  {
   "cell_type": "code",
   "execution_count": 77,
   "id": "fc406e58-937b-4202-b153-28e705f1ac42",
   "metadata": {},
   "outputs": [],
   "source": [
    "FStext1=\"Gold prices saw a slight rise on Sunday, with 24 carat gold priced at ₹8466.3 per gram (up by ₹150) and 22 carat gold at ₹7762.3 per gram (up by ₹140). Over the past week, 24 carat gold dropped by 0.75%, while in the last month, it fell by 4.59%. The price of silver decreased by ₹100 to ₹102600 per kg. In South India, gold rates in cities like Chennai, Bangalore, Hyderabad, Visakhapatnam, and Vijayawada also saw notable increases.\"\n",
    "\n",
    "FStext2=\"Under new amendments to India’s tax laws, cryptocurrency gains will be taxed as undisclosed income under Section 158B of the Income Tax Act. These gains will be subject to block assessments if not reported, similar to assets like money and jewelry. Crypto will now be defined as Virtual Digital Assets (VDAs). The changes, applicable from February 1, 2025, could result in penalties of up to 70% on undisclosed profits. The government has already uncovered significant unpaid GST from crypto exchanges.\"\n",
    "\n",
    "FStext3=\"In a significant move to protect senior citizens, the Insurance Regulatory and Development Authority of India (IRDAI) has capped health insurance premium hikes for policyholders aged 60 and above to 10% per year, without prior approval. This decision, effective from January 30, 2025, aims to prevent steep premium increases that have burdened vulnerable seniors. The move comes in response to concerns about rates doubling, driven by medical inflation and rising hospital bills, which impact seniors with limited income.\"\n",
    "\n",
    "FStext4=\"Finance is the study of money, currency, assets, liabilities, and financial systems, distinct from economics. It encompasses personal, corporate, and public finance and includes assets traded as financial instruments like loans, bonds, and stocks. Key subfields include asset, money, risk, and investment management, as well as financial analysis and multidisciplinary areas such as financial law and financial technology. Finance evolved alongside money, with early financial practices emerging in ancient civilizations. In the 20th century, it became a distinct academic discipline, with doctoral programs established in the 1960s and 1970s.\"\n",
    "\n",
    "FStext5=\"Finance involves managing money and investments, affecting individuals, businesses, and governments. Personal finance includes budgeting, saving, investing, and managing debt to ensure financial stability. Corporate finance focuses on raising capital, investing in projects, and managing cash flow, while understanding financial statements is key to assessing business health. Public finance concerns government revenue and spending on services like healthcare and infrastructure. As finance evolves with new products and technologies, staying informed is crucial for making informed decisions and achieving financial goals, contributing to a more prosperous future.\""
   ]
  },
  {
   "cell_type": "markdown",
   "id": "febe1c77-bea1-47f9-9bce-d2243f469ba6",
   "metadata": {},
   "source": [
    "#### Generating scores for all texts"
   ]
  },
  {
   "cell_type": "code",
   "execution_count": 78,
   "id": "cd932919-9eba-4ace-960b-39cbed287b5b",
   "metadata": {},
   "outputs": [],
   "source": [
    "FImatrix1=np.zeros((4,5))\n",
    "FImatrix2=np.zeros((4,5))\n",
    "FImatrix3=np.zeros((4,5))\n",
    "FImatrix4=np.zeros((4,5))\n",
    "FImatrix5=np.zeros((4,5))"
   ]
  },
  {
   "cell_type": "code",
   "execution_count": 79,
   "id": "0e9b4cc3-fe32-4ae2-b75c-fc853e1c356a",
   "metadata": {},
   "outputs": [],
   "source": [
    "Ftext=[(FImatrix1,FStext1,Ftext1),(FImatrix2,FStext2,Ftext2),(FImatrix3,FStext3,Ftext3),(FImatrix4,FStext4,Ftext4),(FImatrix5,FStext5,Ftext5)]"
   ]
  },
  {
   "cell_type": "code",
   "execution_count": 80,
   "id": "138fc267-5ca7-4613-ad72-20dd4578b649",
   "metadata": {},
   "outputs": [
    {
     "name": "stderr",
     "output_type": "stream",
     "text": [
      "Device set to use cpu\n",
      "Device set to use cpu\n",
      "Device set to use cpu\n",
      "Device set to use cpu\n",
      "Device set to use cpu\n",
      "Device set to use cpu\n",
      "Device set to use cpu\n",
      "Device set to use cpu\n",
      "Device set to use cpu\n",
      "Device set to use cpu\n",
      "Device set to use cpu\n",
      "Device set to use cpu\n",
      "Device set to use cpu\n",
      "Device set to use cpu\n",
      "Device set to use cpu\n"
     ]
    }
   ],
   "source": [
    "for k,(matrix,reference,text) in enumerate(Ftext):\n",
    "    for i, model in enumerate(models):\n",
    "        generated=model(text)\n",
    "        for j,metric in enumerate(parameters):\n",
    "            matrix[i,j]=metric(reference,generated)"
   ]
  },
  {
   "cell_type": "markdown",
   "id": "a408bae5-c7ed-423e-8442-c14b59b3a9c1",
   "metadata": {},
   "source": [
    "#### Converting arrays into dataframes"
   ]
  },
  {
   "cell_type": "code",
   "execution_count": 81,
   "id": "0d824403-8a61-4b17-b4e7-17582c137b78",
   "metadata": {},
   "outputs": [],
   "source": [
    "FIdf1=pd.DataFrame(FImatrix1,index=['bart-large-cnn','t5-tokenizer','distilbart-cnn','bart-large-cnn-samsum'])\n",
    "FIdf2=pd.DataFrame(FImatrix2,index=['bart-large-cnn','t5-tokenizer','distilbart-cnn','bart-large-cnn-samsum'])\n",
    "FIdf3=pd.DataFrame(FImatrix3,index=['bart-large-cnn','t5-tokenizer','distilbart-cnn','bart-large-cnn-samsum'])\n",
    "FIdf4=pd.DataFrame(FImatrix4,index=['bart-large-cnn','t5-tokenizer','distilbart-cnn','bart-large-cnn-samsum'])\n",
    "FIdf5=pd.DataFrame(FImatrix5,index=['bart-large-cnn','t5-tokenizer','distilbart-cnn','bart-large-cnn-samsum'])"
   ]
  },
  {
   "cell_type": "code",
   "execution_count": 82,
   "id": "53dbc990-e4d1-4490-9476-5b46ac134dcf",
   "metadata": {},
   "outputs": [],
   "source": [
    "FIdataframes=[FIdf1,FIdf2,FIdf3,FIdf4,FIdf5]"
   ]
  },
  {
   "cell_type": "code",
   "execution_count": 83,
   "id": "bf02e3db-25db-4e95-bc82-421eea4e15df",
   "metadata": {},
   "outputs": [],
   "source": [
    "for i,df in enumerate(FIdataframes):\n",
    "    df.columns=['Meteor Score','Bleu Score','Rouge-1 Score','Gunning-Fog Index','Flesch-Kincaid']"
   ]
  },
  {
   "cell_type": "markdown",
   "id": "5e050f03-ccb9-4bd3-aa45-9ccb872c4639",
   "metadata": {},
   "source": [
    "#### Saving dataframes as csv (for our own topsis function)"
   ]
  },
  {
   "cell_type": "code",
   "execution_count": 84,
   "id": "79b1ac6c-9ee5-45c9-b054-6d7676e5fccd",
   "metadata": {},
   "outputs": [],
   "source": [
    "FIdf1.to_csv('FIdf1.csv')\n",
    "FIdf2.to_csv('FIdf2.csv')\n",
    "FIdf3.to_csv('FIdf3.csv')\n",
    "FIdf4.to_csv('FIdf4.csv')\n",
    "FIdf5.to_csv('FIdf5.csv')"
   ]
  },
  {
   "cell_type": "markdown",
   "id": "0d904055-f92c-48d9-88e5-cddd9c005452",
   "metadata": {},
   "source": [
    "#### Applying Topsis"
   ]
  },
  {
   "cell_type": "code",
   "execution_count": 85,
   "id": "335e5d16-d9e3-4735-84b3-775a4501b0ee",
   "metadata": {},
   "outputs": [],
   "source": [
    "import topsis_mohit_102397005 as top"
   ]
  },
  {
   "cell_type": "code",
   "execution_count": 86,
   "id": "ee359c6e-6e3d-4b8b-9b23-0fd55c382e48",
   "metadata": {},
   "outputs": [],
   "source": [
    "FFiles=[('FIdf1.csv','FFdf1.csv'),('FIdf2.csv','FFdf2.csv'),('FIdf3.csv','FFdf3.csv'),('FIdf4.csv','FFdf4.csv'),('FIdf5.csv','FFdf5.csv')]"
   ]
  },
  {
   "cell_type": "code",
   "execution_count": 87,
   "id": "7b9df7a3-8ca4-4082-9678-d0a3598a93d4",
   "metadata": {},
   "outputs": [
    {
     "name": "stdout",
     "output_type": "stream",
     "text": [
      "Results saved to 'FFdf1.csv'\n",
      "Results saved to 'FFdf2.csv'\n",
      "Results saved to 'FFdf3.csv'\n",
      "Results saved to 'FFdf4.csv'\n",
      "Results saved to 'FFdf5.csv'\n"
     ]
    }
   ],
   "source": [
    "for i,(input_file,output_file) in enumerate(FFiles):\n",
    "    top.run_topsis(input_file,weights,impacts,output_file)"
   ]
  },
  {
   "cell_type": "markdown",
   "id": "2b36c0df-a3e1-4a0e-8b1d-c8814da4877e",
   "metadata": {},
   "source": [
    "#### Importing results as dataframe"
   ]
  },
  {
   "cell_type": "code",
   "execution_count": 88,
   "id": "e7393e8b-172b-4a8e-bfb0-c25c69d4bd4c",
   "metadata": {},
   "outputs": [],
   "source": [
    "FFdf1=pd.read_csv('FFdf1.csv')\n",
    "FFdf2=pd.read_csv('FFdf2.csv')\n",
    "FFdf3=pd.read_csv('FFdf3.csv')\n",
    "FFdf4=pd.read_csv('FFdf4.csv')\n",
    "FFdf5=pd.read_csv('FFdf5.csv')"
   ]
  },
  {
   "cell_type": "markdown",
   "id": "0a5d9344-5719-4aef-b62d-91021a78891e",
   "metadata": {},
   "source": [
    "#### Result"
   ]
  },
  {
   "cell_type": "code",
   "execution_count": 89,
   "id": "66883e2f-6df6-4e7c-9804-ac53f440b398",
   "metadata": {},
   "outputs": [],
   "source": [
    "FResult=pd.concat([FFdf1,FFdf2,FFdf3,FFdf4,FFdf5])"
   ]
  },
  {
   "cell_type": "code",
   "execution_count": 90,
   "id": "d947c0f5-800f-4b79-ad0d-431917135b7a",
   "metadata": {},
   "outputs": [
    {
     "data": {
      "text/html": [
       "<div>\n",
       "<style scoped>\n",
       "    .dataframe tbody tr th:only-of-type {\n",
       "        vertical-align: middle;\n",
       "    }\n",
       "\n",
       "    .dataframe tbody tr th {\n",
       "        vertical-align: top;\n",
       "    }\n",
       "\n",
       "    .dataframe thead th {\n",
       "        text-align: right;\n",
       "    }\n",
       "</style>\n",
       "<table border=\"1\" class=\"dataframe\">\n",
       "  <thead>\n",
       "    <tr style=\"text-align: right;\">\n",
       "      <th></th>\n",
       "      <th>Unnamed: 0</th>\n",
       "      <th>Meteor Score</th>\n",
       "      <th>Bleu Score</th>\n",
       "      <th>Rouge-1 Score</th>\n",
       "      <th>Gunning-Fog Index</th>\n",
       "      <th>Flesch-Kincaid</th>\n",
       "      <th>TOPSIS Score</th>\n",
       "      <th>Rank</th>\n",
       "    </tr>\n",
       "  </thead>\n",
       "  <tbody>\n",
       "    <tr>\n",
       "      <th>0</th>\n",
       "      <td>bart-large-cnn</td>\n",
       "      <td>0.293193</td>\n",
       "      <td>7.055251</td>\n",
       "      <td>0.485294</td>\n",
       "      <td>6.34</td>\n",
       "      <td>3.5</td>\n",
       "      <td>0.678353</td>\n",
       "      <td>1.0</td>\n",
       "    </tr>\n",
       "    <tr>\n",
       "      <th>1</th>\n",
       "      <td>t5-tokenizer</td>\n",
       "      <td>0.174592</td>\n",
       "      <td>2.674008</td>\n",
       "      <td>0.406780</td>\n",
       "      <td>2.92</td>\n",
       "      <td>0.2</td>\n",
       "      <td>0.368849</td>\n",
       "      <td>3.0</td>\n",
       "    </tr>\n",
       "    <tr>\n",
       "      <th>2</th>\n",
       "      <td>distilbart-cnn</td>\n",
       "      <td>0.271712</td>\n",
       "      <td>6.749952</td>\n",
       "      <td>0.517986</td>\n",
       "      <td>6.37</td>\n",
       "      <td>3.6</td>\n",
       "      <td>0.667931</td>\n",
       "      <td>2.0</td>\n",
       "    </tr>\n",
       "    <tr>\n",
       "      <th>3</th>\n",
       "      <td>bart-large-cnn-samsum</td>\n",
       "      <td>0.154811</td>\n",
       "      <td>0.855283</td>\n",
       "      <td>0.336449</td>\n",
       "      <td>2.12</td>\n",
       "      <td>-0.6</td>\n",
       "      <td>0.318764</td>\n",
       "      <td>4.0</td>\n",
       "    </tr>\n",
       "    <tr>\n",
       "      <th>0</th>\n",
       "      <td>bart-large-cnn</td>\n",
       "      <td>0.230230</td>\n",
       "      <td>4.410798</td>\n",
       "      <td>0.363636</td>\n",
       "      <td>12.70</td>\n",
       "      <td>11.3</td>\n",
       "      <td>0.095448</td>\n",
       "      <td>4.0</td>\n",
       "    </tr>\n",
       "    <tr>\n",
       "      <th>1</th>\n",
       "      <td>t5-tokenizer</td>\n",
       "      <td>0.253857</td>\n",
       "      <td>10.609799</td>\n",
       "      <td>0.465517</td>\n",
       "      <td>12.68</td>\n",
       "      <td>10.2</td>\n",
       "      <td>0.577074</td>\n",
       "      <td>3.0</td>\n",
       "    </tr>\n",
       "    <tr>\n",
       "      <th>2</th>\n",
       "      <td>distilbart-cnn</td>\n",
       "      <td>0.315713</td>\n",
       "      <td>9.909893</td>\n",
       "      <td>0.429630</td>\n",
       "      <td>10.90</td>\n",
       "      <td>11.5</td>\n",
       "      <td>0.639987</td>\n",
       "      <td>2.0</td>\n",
       "    </tr>\n",
       "    <tr>\n",
       "      <th>3</th>\n",
       "      <td>bart-large-cnn-samsum</td>\n",
       "      <td>0.328390</td>\n",
       "      <td>13.210438</td>\n",
       "      <td>0.533333</td>\n",
       "      <td>12.38</td>\n",
       "      <td>9.5</td>\n",
       "      <td>0.858420</td>\n",
       "      <td>1.0</td>\n",
       "    </tr>\n",
       "    <tr>\n",
       "      <th>0</th>\n",
       "      <td>bart-large-cnn</td>\n",
       "      <td>0.293995</td>\n",
       "      <td>10.174232</td>\n",
       "      <td>0.439024</td>\n",
       "      <td>10.43</td>\n",
       "      <td>9.0</td>\n",
       "      <td>0.624318</td>\n",
       "      <td>2.0</td>\n",
       "    </tr>\n",
       "    <tr>\n",
       "      <th>1</th>\n",
       "      <td>t5-tokenizer</td>\n",
       "      <td>0.243504</td>\n",
       "      <td>3.827223</td>\n",
       "      <td>0.362205</td>\n",
       "      <td>15.43</td>\n",
       "      <td>13.8</td>\n",
       "      <td>0.189937</td>\n",
       "      <td>3.0</td>\n",
       "    </tr>\n",
       "    <tr>\n",
       "      <th>2</th>\n",
       "      <td>distilbart-cnn</td>\n",
       "      <td>0.382304</td>\n",
       "      <td>11.362008</td>\n",
       "      <td>0.520325</td>\n",
       "      <td>13.11</td>\n",
       "      <td>11.5</td>\n",
       "      <td>0.832328</td>\n",
       "      <td>1.0</td>\n",
       "    </tr>\n",
       "    <tr>\n",
       "      <th>3</th>\n",
       "      <td>bart-large-cnn-samsum</td>\n",
       "      <td>0.262045</td>\n",
       "      <td>5.201480</td>\n",
       "      <td>0.392523</td>\n",
       "      <td>15.46</td>\n",
       "      <td>10.1</td>\n",
       "      <td>0.165373</td>\n",
       "      <td>4.0</td>\n",
       "    </tr>\n",
       "    <tr>\n",
       "      <th>0</th>\n",
       "      <td>bart-large-cnn</td>\n",
       "      <td>0.168797</td>\n",
       "      <td>8.326541</td>\n",
       "      <td>0.384000</td>\n",
       "      <td>13.69</td>\n",
       "      <td>10.3</td>\n",
       "      <td>0.537334</td>\n",
       "      <td>3.0</td>\n",
       "    </tr>\n",
       "    <tr>\n",
       "      <th>1</th>\n",
       "      <td>t5-tokenizer</td>\n",
       "      <td>0.233396</td>\n",
       "      <td>3.516025</td>\n",
       "      <td>0.405797</td>\n",
       "      <td>11.47</td>\n",
       "      <td>11.5</td>\n",
       "      <td>0.395771</td>\n",
       "      <td>4.0</td>\n",
       "    </tr>\n",
       "    <tr>\n",
       "      <th>2</th>\n",
       "      <td>distilbart-cnn</td>\n",
       "      <td>0.172810</td>\n",
       "      <td>8.765274</td>\n",
       "      <td>0.384615</td>\n",
       "      <td>14.26</td>\n",
       "      <td>11.0</td>\n",
       "      <td>0.567832</td>\n",
       "      <td>2.0</td>\n",
       "    </tr>\n",
       "    <tr>\n",
       "      <th>3</th>\n",
       "      <td>bart-large-cnn-samsum</td>\n",
       "      <td>0.253493</td>\n",
       "      <td>6.677480</td>\n",
       "      <td>0.442623</td>\n",
       "      <td>14.10</td>\n",
       "      <td>8.8</td>\n",
       "      <td>0.644549</td>\n",
       "      <td>1.0</td>\n",
       "    </tr>\n",
       "    <tr>\n",
       "      <th>0</th>\n",
       "      <td>bart-large-cnn</td>\n",
       "      <td>0.225558</td>\n",
       "      <td>7.580675</td>\n",
       "      <td>0.346457</td>\n",
       "      <td>16.48</td>\n",
       "      <td>13.1</td>\n",
       "      <td>0.502433</td>\n",
       "      <td>3.0</td>\n",
       "    </tr>\n",
       "    <tr>\n",
       "      <th>1</th>\n",
       "      <td>t5-tokenizer</td>\n",
       "      <td>0.068134</td>\n",
       "      <td>0.620668</td>\n",
       "      <td>0.186441</td>\n",
       "      <td>8.03</td>\n",
       "      <td>7.5</td>\n",
       "      <td>0.234006</td>\n",
       "      <td>4.0</td>\n",
       "    </tr>\n",
       "    <tr>\n",
       "      <th>2</th>\n",
       "      <td>distilbart-cnn</td>\n",
       "      <td>0.229145</td>\n",
       "      <td>12.628626</td>\n",
       "      <td>0.428571</td>\n",
       "      <td>17.51</td>\n",
       "      <td>15.4</td>\n",
       "      <td>0.634264</td>\n",
       "      <td>2.0</td>\n",
       "    </tr>\n",
       "    <tr>\n",
       "      <th>3</th>\n",
       "      <td>bart-large-cnn-samsum</td>\n",
       "      <td>0.294157</td>\n",
       "      <td>18.255833</td>\n",
       "      <td>0.482270</td>\n",
       "      <td>11.73</td>\n",
       "      <td>9.9</td>\n",
       "      <td>0.845060</td>\n",
       "      <td>1.0</td>\n",
       "    </tr>\n",
       "  </tbody>\n",
       "</table>\n",
       "</div>"
      ],
      "text/plain": [
       "              Unnamed: 0  Meteor Score  Bleu Score  Rouge-1 Score  \\\n",
       "0         bart-large-cnn      0.293193    7.055251       0.485294   \n",
       "1           t5-tokenizer      0.174592    2.674008       0.406780   \n",
       "2         distilbart-cnn      0.271712    6.749952       0.517986   \n",
       "3  bart-large-cnn-samsum      0.154811    0.855283       0.336449   \n",
       "0         bart-large-cnn      0.230230    4.410798       0.363636   \n",
       "1           t5-tokenizer      0.253857   10.609799       0.465517   \n",
       "2         distilbart-cnn      0.315713    9.909893       0.429630   \n",
       "3  bart-large-cnn-samsum      0.328390   13.210438       0.533333   \n",
       "0         bart-large-cnn      0.293995   10.174232       0.439024   \n",
       "1           t5-tokenizer      0.243504    3.827223       0.362205   \n",
       "2         distilbart-cnn      0.382304   11.362008       0.520325   \n",
       "3  bart-large-cnn-samsum      0.262045    5.201480       0.392523   \n",
       "0         bart-large-cnn      0.168797    8.326541       0.384000   \n",
       "1           t5-tokenizer      0.233396    3.516025       0.405797   \n",
       "2         distilbart-cnn      0.172810    8.765274       0.384615   \n",
       "3  bart-large-cnn-samsum      0.253493    6.677480       0.442623   \n",
       "0         bart-large-cnn      0.225558    7.580675       0.346457   \n",
       "1           t5-tokenizer      0.068134    0.620668       0.186441   \n",
       "2         distilbart-cnn      0.229145   12.628626       0.428571   \n",
       "3  bart-large-cnn-samsum      0.294157   18.255833       0.482270   \n",
       "\n",
       "   Gunning-Fog Index  Flesch-Kincaid  TOPSIS Score  Rank  \n",
       "0               6.34             3.5      0.678353   1.0  \n",
       "1               2.92             0.2      0.368849   3.0  \n",
       "2               6.37             3.6      0.667931   2.0  \n",
       "3               2.12            -0.6      0.318764   4.0  \n",
       "0              12.70            11.3      0.095448   4.0  \n",
       "1              12.68            10.2      0.577074   3.0  \n",
       "2              10.90            11.5      0.639987   2.0  \n",
       "3              12.38             9.5      0.858420   1.0  \n",
       "0              10.43             9.0      0.624318   2.0  \n",
       "1              15.43            13.8      0.189937   3.0  \n",
       "2              13.11            11.5      0.832328   1.0  \n",
       "3              15.46            10.1      0.165373   4.0  \n",
       "0              13.69            10.3      0.537334   3.0  \n",
       "1              11.47            11.5      0.395771   4.0  \n",
       "2              14.26            11.0      0.567832   2.0  \n",
       "3              14.10             8.8      0.644549   1.0  \n",
       "0              16.48            13.1      0.502433   3.0  \n",
       "1               8.03             7.5      0.234006   4.0  \n",
       "2              17.51            15.4      0.634264   2.0  \n",
       "3              11.73             9.9      0.845060   1.0  "
      ]
     },
     "execution_count": 90,
     "metadata": {},
     "output_type": "execute_result"
    }
   ],
   "source": [
    "FResult"
   ]
  },
  {
   "cell_type": "markdown",
   "id": "c33ef8af-b974-479b-bddc-92ab2cbb86c2",
   "metadata": {},
   "source": [
    "## Summary"
   ]
  },
  {
   "cell_type": "code",
   "execution_count": 91,
   "id": "f79b715d-7f54-4b78-9986-8904a97c5907",
   "metadata": {},
   "outputs": [],
   "source": [
    "HResult.to_csv('HResult.csv')\n",
    "PResult.to_csv('PResult.csv')\n",
    "SResult.to_csv('SResult.csv')\n",
    "TResult.to_csv('TResult.csv')\n",
    "FResult.to_csv('FResult.csv')"
   ]
  },
  {
   "cell_type": "code",
   "execution_count": 95,
   "id": "411c133c-55f1-4de4-be81-3a65a49325d3",
   "metadata": {},
   "outputs": [],
   "source": [
    "Result={\n",
    "    'Text Domain':['Health','Politics','Sports','Technology','Finance'],\n",
    "    'Best Model':['t5-tokenizer, bart-large-cnn-samsum','bart-large-cnn, bart-large-cnn-samsum','distilbart-cnn, bart-large-cnn-samsum','bart-large-cnn, distilbart-cnn','bart-large-cnn-samsum']\n",
    "}\n",
    "\n",
    "Result=pd.DataFrame(Result)"
   ]
  },
  {
   "cell_type": "code",
   "execution_count": 96,
   "id": "f1565690-505d-4fec-bcac-fb1c167efa3f",
   "metadata": {},
   "outputs": [
    {
     "data": {
      "text/html": [
       "<div>\n",
       "<style scoped>\n",
       "    .dataframe tbody tr th:only-of-type {\n",
       "        vertical-align: middle;\n",
       "    }\n",
       "\n",
       "    .dataframe tbody tr th {\n",
       "        vertical-align: top;\n",
       "    }\n",
       "\n",
       "    .dataframe thead th {\n",
       "        text-align: right;\n",
       "    }\n",
       "</style>\n",
       "<table border=\"1\" class=\"dataframe\">\n",
       "  <thead>\n",
       "    <tr style=\"text-align: right;\">\n",
       "      <th></th>\n",
       "      <th>Text Domain</th>\n",
       "      <th>Best Model</th>\n",
       "    </tr>\n",
       "  </thead>\n",
       "  <tbody>\n",
       "    <tr>\n",
       "      <th>0</th>\n",
       "      <td>Health</td>\n",
       "      <td>t5-tokenizer, bart-large-cnn-samsum</td>\n",
       "    </tr>\n",
       "    <tr>\n",
       "      <th>1</th>\n",
       "      <td>Politics</td>\n",
       "      <td>bart-large-cnn, bart-large-cnn-samsum</td>\n",
       "    </tr>\n",
       "    <tr>\n",
       "      <th>2</th>\n",
       "      <td>Sports</td>\n",
       "      <td>distilbart-cnn, bart-large-cnn-samsum</td>\n",
       "    </tr>\n",
       "    <tr>\n",
       "      <th>3</th>\n",
       "      <td>Technology</td>\n",
       "      <td>bart-large-cnn, distilbart-cnn</td>\n",
       "    </tr>\n",
       "    <tr>\n",
       "      <th>4</th>\n",
       "      <td>Finance</td>\n",
       "      <td>bart-large-cnn-samsum</td>\n",
       "    </tr>\n",
       "  </tbody>\n",
       "</table>\n",
       "</div>"
      ],
      "text/plain": [
       "  Text Domain                             Best Model\n",
       "0      Health    t5-tokenizer, bart-large-cnn-samsum\n",
       "1    Politics  bart-large-cnn, bart-large-cnn-samsum\n",
       "2      Sports  distilbart-cnn, bart-large-cnn-samsum\n",
       "3  Technology         bart-large-cnn, distilbart-cnn\n",
       "4     Finance                  bart-large-cnn-samsum"
      ]
     },
     "execution_count": 96,
     "metadata": {},
     "output_type": "execute_result"
    }
   ],
   "source": [
    "Result"
   ]
  },
  {
   "cell_type": "code",
   "execution_count": 94,
   "id": "d9ab0d34-9ce7-4e88-bd44-82088e818a1b",
   "metadata": {},
   "outputs": [],
   "source": [
    "Result.to_csv('Result.csv')"
   ]
  },
  {
   "cell_type": "markdown",
   "id": "1478e9bf-25c2-42f9-bb97-4ffce8129922",
   "metadata": {},
   "source": [
    "## <ins>Conclusion</ins>: \n",
    "## **bart-large-cnn-samsum** seems to the best for most of the domains"
   ]
  }
 ],
 "metadata": {
  "kernelspec": {
   "display_name": "Python 3 (ipykernel)",
   "language": "python",
   "name": "python3"
  },
  "language_info": {
   "codemirror_mode": {
    "name": "ipython",
    "version": 3
   },
   "file_extension": ".py",
   "mimetype": "text/x-python",
   "name": "python",
   "nbconvert_exporter": "python",
   "pygments_lexer": "ipython3",
   "version": "3.10.1"
  }
 },
 "nbformat": 4,
 "nbformat_minor": 5
}
